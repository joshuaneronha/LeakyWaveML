{
 "cells": [
  {
   "cell_type": "code",
   "execution_count": 2,
   "id": "f98b8e83",
   "metadata": {},
   "outputs": [],
   "source": [
    "import matplotlib.pyplot as plt\n",
    "import numpy as np\n",
    "import pandas as pd\n",
    "YlGnBu = ['#ffffd9','#edf8b1','#c7e9b4','#7fcdbb','#41b6c4','#1d91c0','#225ea8','#0c2c84', '#051a55', '#010d2e']"
   ]
  },
  {
   "cell_type": "code",
   "execution_count": 37,
   "id": "c02e8bf5",
   "metadata": {},
   "outputs": [],
   "source": [
    "test_data_50 = np.loadtxt('D:/Josh/Fall 2021/ML-LWA/results/1644352650.csv', delimiter=\",\", dtype=float)"
   ]
  },
  {
   "cell_type": "code",
   "execution_count": 55,
   "id": "3b6e9fe7",
   "metadata": {},
   "outputs": [],
   "source": [
    "num_sims = int(test_data_50.shape[0] / 361)\n",
    "points = [361 * x for x in np.arange(num_sims + 1)]"
   ]
  },
  {
   "cell_type": "code",
   "execution_count": 68,
   "id": "ace69443",
   "metadata": {},
   "outputs": [],
   "source": [
    "sorted_x = [test_data_50[i:i + 361,:] for i in points[:-1]]"
   ]
  },
  {
   "cell_type": "code",
   "execution_count": 77,
   "id": "36914ea5",
   "metadata": {},
   "outputs": [
    {
     "data": {
      "text/plain": [
       "50"
      ]
     },
     "execution_count": 77,
     "metadata": {},
     "output_type": "execute_result"
    }
   ],
   "source": [
    "len(sorted_x)"
   ]
  },
  {
   "cell_type": "code",
   "execution_count": 63,
   "id": "58c75b0f",
   "metadata": {},
   "outputs": [
    {
     "ename": "TypeError",
     "evalue": "'int' object is not subscriptable",
     "output_type": "error",
     "traceback": [
      "\u001b[1;31m---------------------------------------------------------------------------\u001b[0m",
      "\u001b[1;31mTypeError\u001b[0m                                 Traceback (most recent call last)",
      "\u001b[1;32mC:\\Users\\THZABA~1\\AppData\\Local\\Temp/ipykernel_4940/186355231.py\u001b[0m in \u001b[0;36m<module>\u001b[1;34m\u001b[0m\n\u001b[1;32m----> 1\u001b[1;33m \u001b[0mtest_data_50\u001b[0m\u001b[1;33m[\u001b[0m\u001b[0mnum_sims\u001b[0m\u001b[1;33m[\u001b[0m\u001b[1;36m0\u001b[0m\u001b[1;33m]\u001b[0m\u001b[1;33m:\u001b[0m\u001b[0mnum_sims\u001b[0m\u001b[1;33m[\u001b[0m\u001b[1;36m0\u001b[0m \u001b[1;33m+\u001b[0m \u001b[1;36m361\u001b[0m\u001b[1;33m]\u001b[0m\u001b[1;33m,\u001b[0m\u001b[1;33m:\u001b[0m\u001b[1;33m]\u001b[0m\u001b[1;33m\u001b[0m\u001b[1;33m\u001b[0m\u001b[0m\n\u001b[0m",
      "\u001b[1;31mTypeError\u001b[0m: 'int' object is not subscriptable"
     ]
    }
   ],
   "source": [
    "test_data_50[num_sims[0]:num_sims[0 + 361],:]"
   ]
  },
  {
   "cell_type": "code",
   "execution_count": 49,
   "id": "f9509fe6",
   "metadata": {},
   "outputs": [
    {
     "data": {
      "text/plain": [
       "array([[0.00000000e+00, 2.64009573e+00],\n",
       "       [1.00000000e+00, 2.68123806e+00],\n",
       "       [2.00000000e+00, 2.71691407e+00],\n",
       "       [3.00000000e+00, 2.74667843e+00],\n",
       "       [4.00000000e+00, 2.77004299e+00],\n",
       "       [5.00000000e+00, 2.78650378e+00],\n",
       "       [6.00000000e+00, 2.79557053e+00],\n",
       "       [7.00000000e+00, 2.79678062e+00],\n",
       "       [8.00000000e+00, 2.78967003e+00],\n",
       "       [9.00000000e+00, 2.77366638e+00],\n",
       "       [1.00000000e+01, 2.74786849e+00],\n",
       "       [1.10000000e+01, 2.71069293e+00],\n",
       "       [1.20000000e+01, 2.65941198e+00],\n",
       "       [1.30000000e+01, 2.58969036e+00],\n",
       "       [1.40000000e+01, 2.49535762e+00],\n",
       "       [1.50000000e+01, 2.36885513e+00],\n",
       "       [1.60000000e+01, 2.20317314e+00],\n",
       "       [1.70000000e+01, 1.99701415e+00],\n",
       "       [1.80000000e+01, 1.76732974e+00],\n",
       "       [1.90000000e+01, 1.57713702e+00],\n",
       "       [2.00000000e+01, 1.56828732e+00],\n",
       "       [2.10000000e+01, 1.89187302e+00],\n",
       "       [2.20000000e+01, 2.54878876e+00],\n",
       "       [2.30000000e+01, 3.44121978e+00],\n",
       "       [2.40000000e+01, 4.47336825e+00],\n",
       "       [2.50000000e+01, 5.55786067e+00],\n",
       "       [2.60000000e+01, 6.60438336e+00],\n",
       "       [2.70000000e+01, 7.51837801e+00],\n",
       "       [2.80000000e+01, 8.21040682e+00],\n",
       "       [2.90000000e+01, 8.61629256e+00],\n",
       "       [3.00000000e+01, 8.72993955e+00],\n",
       "       [3.10000000e+01, 8.64926395e+00],\n",
       "       [3.20000000e+01, 8.61785073e+00],\n",
       "       [3.30000000e+01, 8.98676033e+00],\n",
       "       [3.40000000e+01, 1.00009100e+01],\n",
       "       [3.50000000e+01, 1.15672312e+01],\n",
       "       [3.60000000e+01, 1.32985072e+01],\n",
       "       [3.70000000e+01, 1.47167863e+01],\n",
       "       [3.80000000e+01, 1.54123562e+01],\n",
       "       [3.90000000e+01, 1.51843609e+01],\n",
       "       [4.00000000e+01, 1.42618437e+01],\n",
       "       [4.10000000e+01, 1.36497953e+01],\n",
       "       [4.20000000e+01, 1.50344911e+01],\n",
       "       [4.30000000e+01, 1.91189844e+01],\n",
       "       [4.40000000e+01, 2.48152313e+01],\n",
       "       [4.50000000e+01, 3.05630869e+01],\n",
       "       [4.60000000e+01, 3.50112231e+01],\n",
       "       [4.70000000e+01, 3.71135860e+01],\n",
       "       [4.80000000e+01, 3.62107625e+01],\n",
       "       [4.90000000e+01, 3.21347549e+01],\n",
       "       [5.00000000e+01, 2.52888796e+01],\n",
       "       [5.10000000e+01, 1.67140287e+01],\n",
       "       [5.20000000e+01, 8.58663716e+00],\n",
       "       [5.30000000e+01, 7.39962650e+00],\n",
       "       [5.40000000e+01, 1.24638153e+01],\n",
       "       [5.50000000e+01, 1.61507612e+01],\n",
       "       [5.60000000e+01, 1.69072405e+01],\n",
       "       [5.70000000e+01, 1.48851778e+01],\n",
       "       [5.80000000e+01, 1.10790130e+01],\n",
       "       [5.90000000e+01, 7.20478855e+00],\n",
       "       [6.00000000e+01, 5.54324758e+00],\n",
       "       [6.10000000e+01, 6.02200759e+00],\n",
       "       [6.20000000e+01, 5.97450059e+00],\n",
       "       [6.30000000e+01, 4.43603175e+00],\n",
       "       [6.40000000e+01, 1.79766906e+00],\n",
       "       [6.50000000e+01, 1.02666565e+00],\n",
       "       [6.60000000e+01, 3.08471320e+00],\n",
       "       [6.70000000e+01, 3.76958823e+00],\n",
       "       [6.80000000e+01, 3.05523617e+00],\n",
       "       [6.90000000e+01, 1.76304358e+00],\n",
       "       [7.00000000e+01, 2.09139767e+00],\n",
       "       [7.10000000e+01, 3.20935699e+00],\n",
       "       [7.20000000e+01, 3.39739565e+00],\n",
       "       [7.30000000e+01, 2.45336311e+00],\n",
       "       [7.40000000e+01, 1.07594917e+00],\n",
       "       [7.50000000e+01, 1.51750334e+00],\n",
       "       [7.60000000e+01, 2.34569162e+00],\n",
       "       [7.70000000e+01, 2.38796466e+00],\n",
       "       [7.80000000e+01, 2.61495099e+00],\n",
       "       [7.90000000e+01, 3.99781054e+00],\n",
       "       [8.00000000e+01, 5.34886107e+00],\n",
       "       [8.10000000e+01, 5.43530833e+00],\n",
       "       [8.20000000e+01, 3.75440942e+00],\n",
       "       [8.30000000e+01, 1.10317068e+00],\n",
       "       [8.40000000e+01, 3.83394766e+00],\n",
       "       [8.50000000e+01, 7.15610980e+00],\n",
       "       [8.60000000e+01, 8.82088255e+00],\n",
       "       [8.70000000e+01, 8.25637340e+00],\n",
       "       [8.80000000e+01, 5.93139517e+00],\n",
       "       [8.90000000e+01, 4.20690628e+00],\n",
       "       [9.00000000e+01, 5.95200196e+00],\n",
       "       [9.10000000e+01, 8.17253085e+00],\n",
       "       [9.20000000e+01, 8.71697065e+00],\n",
       "       [9.30000000e+01, 7.37426084e+00],\n",
       "       [9.40000000e+01, 5.12322885e+00],\n",
       "       [9.50000000e+01, 4.03333274e+00],\n",
       "       [9.60000000e+01, 4.72200807e+00],\n",
       "       [9.70000000e+01, 4.96290073e+00],\n",
       "       [9.80000000e+01, 3.77116697e+00],\n",
       "       [9.90000000e+01, 1.48536125e+00],\n",
       "       [1.00000000e+02, 1.52140550e+00],\n",
       "       [1.01000000e+02, 3.55655725e+00],\n",
       "       [1.02000000e+02, 4.42783445e+00],\n",
       "       [1.03000000e+02, 3.93619584e+00],\n",
       "       [1.04000000e+02, 2.46530433e+00],\n",
       "       [1.05000000e+02, 9.78920884e-01],\n",
       "       [1.06000000e+02, 1.37009497e+00],\n",
       "       [1.07000000e+02, 1.83255366e+00],\n",
       "       [1.08000000e+02, 1.38408483e+00],\n",
       "       [1.09000000e+02, 5.56802491e-01],\n",
       "       [1.10000000e+02, 1.54063442e+00],\n",
       "       [1.11000000e+02, 2.61768695e+00],\n",
       "       [1.12000000e+02, 2.94943662e+00],\n",
       "       [1.13000000e+02, 2.36432374e+00],\n",
       "       [1.14000000e+02, 1.02002259e+00],\n",
       "       [1.15000000e+02, 6.93677747e-01],\n",
       "       [1.16000000e+02, 2.30265835e+00],\n",
       "       [1.17000000e+02, 3.40397645e+00],\n",
       "       [1.18000000e+02, 3.77893577e+00],\n",
       "       [1.19000000e+02, 3.43511769e+00],\n",
       "       [1.20000000e+02, 2.57526028e+00],\n",
       "       [1.21000000e+02, 1.51819608e+00],\n",
       "       [1.22000000e+02, 6.43547817e-01],\n",
       "       [1.23000000e+02, 5.07996161e-01],\n",
       "       [1.24000000e+02, 6.92127869e-01],\n",
       "       [1.25000000e+02, 7.10673035e-01],\n",
       "       [1.26000000e+02, 7.60544680e-01],\n",
       "       [1.27000000e+02, 9.70561221e-01],\n",
       "       [1.28000000e+02, 1.16750032e+00],\n",
       "       [1.29000000e+02, 1.19113841e+00],\n",
       "       [1.30000000e+02, 1.01352172e+00],\n",
       "       [1.31000000e+02, 7.53502763e-01],\n",
       "       [1.32000000e+02, 7.09125651e-01],\n",
       "       [1.33000000e+02, 9.69905683e-01],\n",
       "       [1.34000000e+02, 1.25355382e+00],\n",
       "       [1.35000000e+02, 1.41208044e+00],\n",
       "       [1.36000000e+02, 1.44855977e+00],\n",
       "       [1.37000000e+02, 1.47175572e+00],\n",
       "       [1.38000000e+02, 1.62273516e+00],\n",
       "       [1.39000000e+02, 1.93139363e+00],\n",
       "       [1.40000000e+02, 2.29646872e+00],\n",
       "       [1.41000000e+02, 2.59599730e+00],\n",
       "       [1.42000000e+02, 2.74567146e+00],\n",
       "       [1.43000000e+02, 2.70506638e+00],\n",
       "       [1.44000000e+02, 2.47111191e+00],\n",
       "       [1.45000000e+02, 2.06916141e+00],\n",
       "       [1.46000000e+02, 1.54387195e+00],\n",
       "       [1.47000000e+02, 9.53627120e-01],\n",
       "       [1.48000000e+02, 4.02990490e-01],\n",
       "       [1.49000000e+02, 4.51906082e-01],\n",
       "       [1.50000000e+02, 9.46110074e-01],\n",
       "       [1.51000000e+02, 1.40788803e+00],\n",
       "       [1.52000000e+02, 1.78654629e+00],\n",
       "       [1.53000000e+02, 2.07310641e+00],\n",
       "       [1.54000000e+02, 2.27034933e+00],\n",
       "       [1.55000000e+02, 2.38726522e+00],\n",
       "       [1.56000000e+02, 2.43612533e+00],\n",
       "       [1.57000000e+02, 2.43041292e+00],\n",
       "       [1.58000000e+02, 2.38336379e+00],\n",
       "       [1.59000000e+02, 2.30702998e+00],\n",
       "       [1.60000000e+02, 2.21177526e+00],\n",
       "       [1.61000000e+02, 2.10609611e+00],\n",
       "       [1.62000000e+02, 1.99666126e+00],\n",
       "       [1.63000000e+02, 1.88847698e+00],\n",
       "       [1.64000000e+02, 1.78510809e+00],\n",
       "       [1.65000000e+02, 1.68890942e+00],\n",
       "       [1.66000000e+02, 1.60124397e+00],\n",
       "       [1.67000000e+02, 1.52268019e+00],\n",
       "       [1.68000000e+02, 1.45316891e+00],\n",
       "       [1.69000000e+02, 1.39220318e+00],\n",
       "       [1.70000000e+02, 1.33896252e+00],\n",
       "       [1.71000000e+02, 1.29244037e+00],\n",
       "       [1.72000000e+02, 1.25155142e+00],\n",
       "       [1.73000000e+02, 1.21521618e+00],\n",
       "       [1.74000000e+02, 1.18242135e+00],\n",
       "       [1.75000000e+02, 1.15225779e+00],\n",
       "       [1.76000000e+02, 1.12393964e+00],\n",
       "       [1.77000000e+02, 1.09680945e+00],\n",
       "       [1.78000000e+02, 1.07033463e+00],\n",
       "       [1.79000000e+02, 1.04409956e+00],\n",
       "       [1.80000000e+02, 1.01779733e+00],\n",
       "       [1.81000000e+02, 9.91223527e-01],\n",
       "       [1.82000000e+02, 9.64274105e-01],\n",
       "       [1.83000000e+02, 9.36948181e-01],\n",
       "       [1.84000000e+02, 9.09356212e-01],\n",
       "       [1.85000000e+02, 8.81733257e-01],\n",
       "       [1.86000000e+02, 8.54456252e-01],\n",
       "       [1.87000000e+02, 8.28063060e-01],\n",
       "       [1.88000000e+02, 8.03269170e-01],\n",
       "       [1.89000000e+02, 7.80975146e-01],\n",
       "       [1.90000000e+02, 7.62254324e-01],\n",
       "       [1.91000000e+02, 7.48307123e-01],\n",
       "       [1.92000000e+02, 7.40368412e-01],\n",
       "       [1.93000000e+02, 7.39561982e-01],\n",
       "       [1.94000000e+02, 7.46713255e-01],\n",
       "       [1.95000000e+02, 7.62152867e-01],\n",
       "       [1.96000000e+02, 7.85555637e-01],\n",
       "       [1.97000000e+02, 8.15849427e-01],\n",
       "       [1.98000000e+02, 8.51201187e-01],\n",
       "       [1.99000000e+02, 8.89063038e-01],\n",
       "       [2.00000000e+02, 9.26256321e-01],\n",
       "       [2.01000000e+02, 9.59084152e-01],\n",
       "       [2.02000000e+02, 9.83479892e-01],\n",
       "       [2.03000000e+02, 9.95208642e-01],\n",
       "       [2.04000000e+02, 9.90138112e-01],\n",
       "       [2.05000000e+02, 9.64586222e-01],\n",
       "       [2.06000000e+02, 9.15740286e-01],\n",
       "       [2.07000000e+02, 8.42133597e-01],\n",
       "       [2.08000000e+02, 7.44174574e-01],\n",
       "       [2.09000000e+02, 6.24795901e-01],\n",
       "       [2.10000000e+02, 4.90596348e-01],\n",
       "       [2.11000000e+02, 3.55142468e-01],\n",
       "       [2.12000000e+02, 2.50764804e-01],\n",
       "       [2.13000000e+02, 2.40718051e-01],\n",
       "       [2.14000000e+02, 3.27598723e-01],\n",
       "       [2.15000000e+02, 4.44124100e-01],\n",
       "       [2.16000000e+02, 5.55034074e-01],\n",
       "       [2.17000000e+02, 6.47583662e-01],\n",
       "       [2.18000000e+02, 7.17315160e-01],\n",
       "       [2.19000000e+02, 7.63737915e-01],\n",
       "       [2.20000000e+02, 7.88567892e-01],\n",
       "       [2.21000000e+02, 7.94680184e-01],\n",
       "       [2.22000000e+02, 7.85422186e-01],\n",
       "       [2.23000000e+02, 7.64019700e-01],\n",
       "       [2.24000000e+02, 7.32660681e-01],\n",
       "       [2.25000000e+02, 6.91120755e-01],\n",
       "       [2.26000000e+02, 6.35695980e-01],\n",
       "       [2.27000000e+02, 5.60003761e-01],\n",
       "       [2.28000000e+02, 4.59045153e-01],\n",
       "       [2.29000000e+02, 3.38491751e-01],\n",
       "       [2.30000000e+02, 2.40675419e-01],\n",
       "       [2.31000000e+02, 2.69228458e-01],\n",
       "       [2.32000000e+02, 4.06221154e-01],\n",
       "       [2.33000000e+02, 5.48059380e-01],\n",
       "       [2.34000000e+02, 6.39920858e-01],\n",
       "       [2.35000000e+02, 6.52651665e-01],\n",
       "       [2.36000000e+02, 5.75202937e-01],\n",
       "       [2.37000000e+02, 4.15997024e-01],\n",
       "       [2.38000000e+02, 2.08388534e-01],\n",
       "       [2.39000000e+02, 1.25296695e-01],\n",
       "       [2.40000000e+02, 3.08007473e-01],\n",
       "       [2.41000000e+02, 4.61563869e-01],\n",
       "       [2.42000000e+02, 5.27628628e-01],\n",
       "       [2.43000000e+02, 4.91850752e-01],\n",
       "       [2.44000000e+02, 3.62990759e-01],\n",
       "       [2.45000000e+02, 1.69955836e-01],\n",
       "       [2.46000000e+02, 5.45223654e-02],\n",
       "       [2.47000000e+02, 2.43619980e-01],\n",
       "       [2.48000000e+02, 3.74094449e-01],\n",
       "       [2.49000000e+02, 4.20384374e-01],\n",
       "       [2.50000000e+02, 3.85974369e-01],\n",
       "       [2.51000000e+02, 3.01939319e-01],\n",
       "       [2.52000000e+02, 2.18272102e-01],\n",
       "       [2.53000000e+02, 1.68754203e-01],\n",
       "       [2.54000000e+02, 1.35899842e-01],\n",
       "       [2.55000000e+02, 1.46579811e-01],\n",
       "       [2.56000000e+02, 2.62256439e-01],\n",
       "       [2.57000000e+02, 4.06004442e-01],\n",
       "       [2.58000000e+02, 4.94395162e-01],\n",
       "       [2.59000000e+02, 4.75370458e-01],\n",
       "       [2.60000000e+02, 3.47530115e-01],\n",
       "       [2.61000000e+02, 2.22670361e-01],\n",
       "       [2.62000000e+02, 3.29016284e-01],\n",
       "       [2.63000000e+02, 4.84184791e-01],\n",
       "       [2.64000000e+02, 5.17084150e-01],\n",
       "       [2.65000000e+02, 3.92747896e-01],\n",
       "       [2.66000000e+02, 1.82809236e-01],\n",
       "       [2.67000000e+02, 2.40614914e-01],\n",
       "       [2.68000000e+02, 4.25812475e-01],\n",
       "       [2.69000000e+02, 4.62724841e-01],\n",
       "       [2.70000000e+02, 3.09990856e-01],\n",
       "       [2.71000000e+02, 3.24351351e-02],\n",
       "       [2.72000000e+02, 3.08732660e-01],\n",
       "       [2.73000000e+02, 5.26405777e-01],\n",
       "       [2.74000000e+02, 5.45698337e-01],\n",
       "       [2.75000000e+02, 3.68010932e-01],\n",
       "       [2.76000000e+02, 2.85614396e-01],\n",
       "       [2.77000000e+02, 5.96166759e-01],\n",
       "       [2.78000000e+02, 8.63994151e-01],\n",
       "       [2.79000000e+02, 9.06474228e-01],\n",
       "       [2.80000000e+02, 6.94344485e-01],\n",
       "       [2.81000000e+02, 3.58037971e-01],\n",
       "       [2.82000000e+02, 4.13629611e-01],\n",
       "       [2.83000000e+02, 7.16534441e-01],\n",
       "       [2.84000000e+02, 8.33426035e-01],\n",
       "       [2.85000000e+02, 7.15652406e-01],\n",
       "       [2.86000000e+02, 5.29134824e-01],\n",
       "       [2.87000000e+02, 6.10512234e-01],\n",
       "       [2.88000000e+02, 8.27360298e-01],\n",
       "       [2.89000000e+02, 8.71242711e-01],\n",
       "       [2.90000000e+02, 6.57106942e-01],\n",
       "       [2.91000000e+02, 3.20104759e-01],\n",
       "       [2.92000000e+02, 4.77079657e-01],\n",
       "       [2.93000000e+02, 8.26356011e-01],\n",
       "       [2.94000000e+02, 9.33705392e-01],\n",
       "       [2.95000000e+02, 7.09300409e-01],\n",
       "       [2.96000000e+02, 2.09147447e-01],\n",
       "       [2.97000000e+02, 4.48314461e-01],\n",
       "       [2.98000000e+02, 1.00943049e+00],\n",
       "       [2.99000000e+02, 1.32417239e+00],\n",
       "       [3.00000000e+02, 1.34649011e+00],\n",
       "       [3.01000000e+02, 1.30393137e+00],\n",
       "       [3.02000000e+02, 1.64055947e+00],\n",
       "       [3.03000000e+02, 2.30885894e+00],\n",
       "       [3.04000000e+02, 2.87863165e+00],\n",
       "       [3.05000000e+02, 3.01074789e+00],\n",
       "       [3.06000000e+02, 2.52441491e+00],\n",
       "       [3.07000000e+02, 1.47118147e+00],\n",
       "       [3.08000000e+02, 1.14882375e+00],\n",
       "       [3.09000000e+02, 2.95232595e+00],\n",
       "       [3.10000000e+02, 5.06051846e+00],\n",
       "       [3.11000000e+02, 6.92476296e+00],\n",
       "       [3.12000000e+02, 8.24575928e+00],\n",
       "       [3.13000000e+02, 8.84316225e+00],\n",
       "       [3.14000000e+02, 8.66691441e+00],\n",
       "       [3.15000000e+02, 7.80023958e+00],\n",
       "       [3.16000000e+02, 6.45081498e+00],\n",
       "       [3.17000000e+02, 4.94735308e+00],\n",
       "       [3.18000000e+02, 3.76193107e+00],\n",
       "       [3.19000000e+02, 3.39632783e+00],\n",
       "       [3.20000000e+02, 3.77483746e+00],\n",
       "       [3.21000000e+02, 4.30303466e+00],\n",
       "       [3.22000000e+02, 4.59828612e+00],\n",
       "       [3.23000000e+02, 4.55113994e+00],\n",
       "       [3.24000000e+02, 4.20066524e+00],\n",
       "       [3.25000000e+02, 3.67025802e+00],\n",
       "       [3.26000000e+02, 3.13615560e+00],\n",
       "       [3.27000000e+02, 2.78731089e+00],\n",
       "       [3.28000000e+02, 2.72522275e+00],\n",
       "       [3.29000000e+02, 2.87470955e+00],\n",
       "       [3.30000000e+02, 3.07124131e+00],\n",
       "       [3.31000000e+02, 3.18961163e+00],\n",
       "       [3.32000000e+02, 3.17152969e+00],\n",
       "       [3.33000000e+02, 3.00691802e+00],\n",
       "       [3.34000000e+02, 2.71440950e+00],\n",
       "       [3.35000000e+02, 2.32802773e+00],\n",
       "       [3.36000000e+02, 1.88891020e+00],\n",
       "       [3.37000000e+02, 1.44172417e+00],\n",
       "       [3.38000000e+02, 1.03818266e+00],\n",
       "       [3.39000000e+02, 7.53328318e-01],\n",
       "       [3.40000000e+02, 6.82513854e-01],\n",
       "       [3.41000000e+02, 8.08525790e-01],\n",
       "       [3.42000000e+02, 1.00612135e+00],\n",
       "       [3.43000000e+02, 1.20235881e+00],\n",
       "       [3.44000000e+02, 1.37466833e+00],\n",
       "       [3.45000000e+02, 1.51996898e+00],\n",
       "       [3.46000000e+02, 1.64200293e+00],\n",
       "       [3.47000000e+02, 1.74646548e+00],\n",
       "       [3.48000000e+02, 1.83886869e+00],\n",
       "       [3.49000000e+02, 1.92360041e+00],\n",
       "       [3.50000000e+02, 2.00364332e+00],\n",
       "       [3.51000000e+02, 2.08068193e+00],\n",
       "       [3.52000000e+02, 2.15540334e+00],\n",
       "       [3.53000000e+02, 2.22784601e+00],\n",
       "       [3.54000000e+02, 2.29770408e+00],\n",
       "       [3.55000000e+02, 2.36454506e+00],\n",
       "       [3.56000000e+02, 2.42793672e+00],\n",
       "       [3.57000000e+02, 2.48749986e+00],\n",
       "       [3.58000000e+02, 2.54291064e+00],\n",
       "       [3.59000000e+02, 2.59387534e+00],\n",
       "       [3.60000000e+02, 2.64009573e+00]])"
      ]
     },
     "execution_count": 49,
     "metadata": {},
     "output_type": "execute_result"
    }
   ],
   "source": [
    "test_data_50[361:361+361,:]"
   ]
  },
  {
   "cell_type": "code",
   "execution_count": 39,
   "id": "019f9a03",
   "metadata": {},
   "outputs": [
    {
     "data": {
      "text/plain": [
       "(18050, 2)"
      ]
     },
     "execution_count": 39,
     "metadata": {},
     "output_type": "execute_result"
    }
   ],
   "source": [
    "test_data_50.shape"
   ]
  },
  {
   "cell_type": "code",
   "execution_count": 34,
   "id": "a14fcf5c",
   "metadata": {},
   "outputs": [
    {
     "data": {
      "text/plain": [
       "<pandas.core.groupby.generic.DataFrameGroupBy object at 0x000001E792E5F310>"
      ]
     },
     "execution_count": 34,
     "metadata": {},
     "output_type": "execute_result"
    }
   ],
   "source": [
    "test_data_50.groupby(0)[1]"
   ]
  },
  {
   "cell_type": "code",
   "execution_count": 17,
   "id": "ff2c602c",
   "metadata": {},
   "outputs": [
    {
     "ename": "TypeError",
     "evalue": "pivot() missing 1 required argument: 'columns'",
     "output_type": "error",
     "traceback": [
      "\u001b[1;31m---------------------------------------------------------------------------\u001b[0m",
      "\u001b[1;31mTypeError\u001b[0m                                 Traceback (most recent call last)",
      "\u001b[1;32mC:\\Users\\THZABA~1\\AppData\\Local\\Temp/ipykernel_4940/1401392791.py\u001b[0m in \u001b[0;36m<module>\u001b[1;34m\u001b[0m\n\u001b[1;32m----> 1\u001b[1;33m \u001b[0mtest_data_50\u001b[0m\u001b[1;33m.\u001b[0m\u001b[0mpivot\u001b[0m\u001b[1;33m(\u001b[0m\u001b[0mindex\u001b[0m\u001b[1;33m=\u001b[0m\u001b[1;36m0\u001b[0m\u001b[1;33m)\u001b[0m\u001b[1;33m\u001b[0m\u001b[1;33m\u001b[0m\u001b[0m\n\u001b[0m",
      "\u001b[1;32m~\\anaconda3\\lib\\site-packages\\pandas\\core\\frame.py\u001b[0m in \u001b[0;36mpivot\u001b[1;34m(self, index, columns, values)\u001b[0m\n\u001b[0;32m   7791\u001b[0m         \u001b[1;32mfrom\u001b[0m \u001b[0mpandas\u001b[0m\u001b[1;33m.\u001b[0m\u001b[0mcore\u001b[0m\u001b[1;33m.\u001b[0m\u001b[0mreshape\u001b[0m\u001b[1;33m.\u001b[0m\u001b[0mpivot\u001b[0m \u001b[1;32mimport\u001b[0m \u001b[0mpivot\u001b[0m\u001b[1;33m\u001b[0m\u001b[1;33m\u001b[0m\u001b[0m\n\u001b[0;32m   7792\u001b[0m \u001b[1;33m\u001b[0m\u001b[0m\n\u001b[1;32m-> 7793\u001b[1;33m         \u001b[1;32mreturn\u001b[0m \u001b[0mpivot\u001b[0m\u001b[1;33m(\u001b[0m\u001b[0mself\u001b[0m\u001b[1;33m,\u001b[0m \u001b[0mindex\u001b[0m\u001b[1;33m=\u001b[0m\u001b[0mindex\u001b[0m\u001b[1;33m,\u001b[0m \u001b[0mcolumns\u001b[0m\u001b[1;33m=\u001b[0m\u001b[0mcolumns\u001b[0m\u001b[1;33m,\u001b[0m \u001b[0mvalues\u001b[0m\u001b[1;33m=\u001b[0m\u001b[0mvalues\u001b[0m\u001b[1;33m)\u001b[0m\u001b[1;33m\u001b[0m\u001b[1;33m\u001b[0m\u001b[0m\n\u001b[0m\u001b[0;32m   7794\u001b[0m \u001b[1;33m\u001b[0m\u001b[0m\n\u001b[0;32m   7795\u001b[0m     _shared_docs[\n",
      "\u001b[1;32m~\\anaconda3\\lib\\site-packages\\pandas\\core\\reshape\\pivot.py\u001b[0m in \u001b[0;36mpivot\u001b[1;34m(data, index, columns, values)\u001b[0m\n\u001b[0;32m    481\u001b[0m ) -> DataFrame:\n\u001b[0;32m    482\u001b[0m     \u001b[1;32mif\u001b[0m \u001b[0mcolumns\u001b[0m \u001b[1;32mis\u001b[0m \u001b[1;32mNone\u001b[0m\u001b[1;33m:\u001b[0m\u001b[1;33m\u001b[0m\u001b[1;33m\u001b[0m\u001b[0m\n\u001b[1;32m--> 483\u001b[1;33m         \u001b[1;32mraise\u001b[0m \u001b[0mTypeError\u001b[0m\u001b[1;33m(\u001b[0m\u001b[1;34m\"pivot() missing 1 required argument: 'columns'\"\u001b[0m\u001b[1;33m)\u001b[0m\u001b[1;33m\u001b[0m\u001b[1;33m\u001b[0m\u001b[0m\n\u001b[0m\u001b[0;32m    484\u001b[0m \u001b[1;33m\u001b[0m\u001b[0m\n\u001b[0;32m    485\u001b[0m     \u001b[0mcolumns_listlike\u001b[0m \u001b[1;33m=\u001b[0m \u001b[0mcom\u001b[0m\u001b[1;33m.\u001b[0m\u001b[0mconvert_to_list_like\u001b[0m\u001b[1;33m(\u001b[0m\u001b[0mcolumns\u001b[0m\u001b[1;33m)\u001b[0m\u001b[1;33m\u001b[0m\u001b[1;33m\u001b[0m\u001b[0m\n",
      "\u001b[1;31mTypeError\u001b[0m: pivot() missing 1 required argument: 'columns'"
     ]
    }
   ],
   "source": [
    "test_data_50.pivot(index=0)"
   ]
  },
  {
   "cell_type": "code",
   "execution_count": null,
   "id": "0aab6517",
   "metadata": {},
   "outputs": [],
   "source": []
  },
  {
   "cell_type": "code",
   "execution_count": null,
   "id": "26dbfcd6",
   "metadata": {},
   "outputs": [],
   "source": [
    "with open(save_str + '.pkl', 'rb') as file:\n",
    "    pickle.load(img_list, file)\n",
    "\n",
    "fig, ax = plt.subplots(figsize = (32,16))\n",
    "for i in np.arange(50):\n",
    "    plt.subplot(5,10,i+1)\n",
    "    plt.imshow(yo[i], cmap = 'YlGnBu')"
   ]
  },
  {
   "cell_type": "code",
   "execution_count": null,
   "id": "43be5c0d",
   "metadata": {},
   "outputs": [],
   "source": []
  },
  {
   "cell_type": "code",
   "execution_count": 16,
   "id": "65d227d2",
   "metadata": {},
   "outputs": [],
   "source": [
    "test_data_1 = pd.read_csv('D:/Josh/Fall 2021/ML-LWA/results/0.csv', names=['angle','val'])\n",
    "test_data_2 = pd.read_csv('D:/Josh/Fall 2021/ML-LWA/results/1.csv', names=['angle','val'])\n",
    "test_data_3 = pd.read_csv('D:/Josh/Fall 2021/ML-LWA/results/2.csv', names=['angle','val'])\n",
    "test_data_4 = pd.read_csv('D:/Josh/Fall 2021/ML-LWA/results/3.csv', names=['angle','val'])\n",
    "test_data_5 = pd.read_csv('D:/Josh/Fall 2021/ML-LWA/results/4.csv', names=['angle','val'])\n",
    "test_data_6 = pd.read_csv('D:/Josh/Fall 2021/ML-LWA/results/5.csv', names=['angle','val'])\n",
    "test_data_7 = pd.read_csv('D:/Josh/Fall 2021/ML-LWA/results/6.csv', names=['angle','val'])\n",
    "test_data_8 = pd.read_csv('D:/Josh/Fall 2021/ML-LWA/results/7.csv', names=['angle','val'])\n",
    "test_data_9 = pd.read_csv('D:/Josh/Fall 2021/ML-LWA/results/8.csv', names=['angle','val'])\n",
    "test_data_10 = pd.read_csv('D:/Josh/Fall 2021/ML-LWA/results/9.csv', names=['angle','val'])"
   ]
  },
  {
   "cell_type": "code",
   "execution_count": 26,
   "id": "8d481d58",
   "metadata": {},
   "outputs": [
    {
     "data": {
      "image/png": "[encoded data removed]",
      "text/plain": [
       "<Figure size 432x288 with 1 Axes>"
      ]
     },
     "metadata": {
      "needs_background": "light"
     },
     "output_type": "display_data"
    }
   ],
   "source": [
    "plt.plot(test_data_1['angle'][0:180],20*np.log10(test_data_1['val'][0:180]), YlGnBu[0])\n",
    "plt.plot(test_data_2['angle'][0:180],20*np.log10(test_data_2['val'][0:180]), YlGnBu[1])\n",
    "plt.plot(test_data_3['angle'][0:180],20*np.log10(test_data_3['val'][0:180]), YlGnBu[2])\n",
    "plt.plot(test_data_4['angle'][0:180],20*np.log10(test_data_4['val'][0:180]), YlGnBu[3])\n",
    "plt.plot(test_data_5['angle'][0:180],20*np.log10(test_data_5['val'][0:180]), YlGnBu[4])\n",
    "plt.plot(test_data_6['angle'][0:180],20*np.log10(test_data_6['val'][0:180]), YlGnBu[5])\n",
    "plt.plot(test_data_7['angle'][0:180],20*np.log10(test_data_7['val'][0:180]), YlGnBu[6])\n",
    "plt.plot(test_data_8['angle'][0:180],20*np.log10(test_data_8['val'][0:180]), YlGnBu[7])\n",
    "plt.plot(test_data_9['angle'][0:180],20*np.log10(test_data_9['val'][0:180]), YlGnBu[8])\n",
    "plt.plot(test_data_10['angle'][0:180],20*np.log10(test_data_10['val'][0:180]), YlGnBu[9])\n",
    "plt.legend(['1','2','3','4','5','6','7','8','9','10'])\n",
    "plt.title('Efarx For Different Random Patterns')\n",
    "plt.xlabel('Angle (degrees from orth. to antenna)')\n",
    "plt.ylabel('Efarx (dB)')\n",
    "plt.show()"
   ]
  },
  {
   "cell_type": "code",
   "execution_count": null,
   "id": "9e077266",
   "metadata": {},
   "outputs": [],
   "source": [
    "test_data"
   ]
  },
  {
   "cell_type": "code",
   "execution_count": null,
   "id": "9ac96c5a",
   "metadata": {},
   "outputs": [],
   "source": [
    "test_data_2"
   ]
  },
  {
   "cell_type": "code",
   "execution_count": null,
   "id": "2693d0f7",
   "metadata": {},
   "outputs": [],
   "source": []
  },
  {
   "cell_type": "code",
   "execution_count": null,
   "id": "ea39e7f4",
   "metadata": {},
   "outputs": [],
   "source": []
  },
  {
   "cell_type": "code",
   "execution_count": null,
   "id": "2c1f74c1",
   "metadata": {},
   "outputs": [],
   "source": []
  },
  {
   "cell_type": "code",
   "execution_count": null,
   "id": "572a865f",
   "metadata": {},
   "outputs": [],
   "source": []
  }
 ],
 "metadata": {
  "kernelspec": {
   "display_name": "Python 3 (ipykernel)",
   "language": "python",
   "name": "python3"
  },
  "language_info": {
   "codemirror_mode": {
    "name": "ipython",
    "version": 3
   },
   "file_extension": ".py",
   "mimetype": "text/x-python",
   "name": "python",
   "nbconvert_exporter": "python",
   "pygments_lexer": "ipython3",
   "version": "3.9.7"
  }
 },
 "nbformat": 4,
 "nbformat_minor": 5
}
