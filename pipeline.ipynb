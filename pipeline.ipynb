{
 "cells": [
  {
   "cell_type": "code",
   "execution_count": 1,
   "id": "ac809e3b",
   "metadata": {},
   "outputs": [],
   "source": [
    "import random\n",
    "import mph\n",
    "import numpy as np\n",
    "import matplotlib.pyplot as plt\n",
    "import os    \n",
    "import time\n",
    "from tqdm.notebook import tqdm\n",
    "import pickle\n",
    "os.environ['KMP_DUPLICATE_LIB_OK']='True'\n",
    "\n",
    "path = 'D:/Josh/Fall 2021/ML-LWA/baseline.mph'\n",
    "\n",
    "scattering = [1,2,5,6,7,231,233,236,237]"
   ]
  },
  {
   "cell_type": "code",
   "execution_count": 2,
   "id": "9981647c",
   "metadata": {},
   "outputs": [],
   "source": [
    "def start_client(path):\n",
    "    global model\n",
    "    global pymodel\n",
    "    global client\n",
    "    client = mph.start(version = '5.3a')\n",
    "    pymodel = client.load(path)\n",
    "    model = pymodel.java\n",
    "    \n",
    "def save_model():\n",
    "    model.save(path)\n",
    "    \n",
    "def generate_image(random_pattern):\n",
    "    adjusted = [x - 15 for x in random_pattern]\n",
    "    out = np.array([1 if x in adjusted else 0 for x in np.arange(216)]).reshape([6,36])\n",
    "    flipped = np.flip(out.reshape([6,36]).T,axis=0)\n",
    "    return flipped\n",
    "    \n",
    "def simulate_random():\n",
    "    global start_count\n",
    "    grids_of_interest = [random.randint(15,230) for i in range(0,random.randint(1,216))]\n",
    "    this_scattering = scattering + grids_of_interest\n",
    "    \n",
    "    model.physics(\"emw\").feature(\"sctr1\").selection().set(this_scattering);\n",
    "    model.physics(\"emw\").feature(\"ffd1\").feature(\"ffc1\").selection().set(grids_of_interest);\n",
    "\n",
    "    model.geom(\"geom1\").runAll();\n",
    "    model.mesh().run();\n",
    "    model.sol(\"sol1\").runAll();\n",
    "    \n",
    "    model.result(\"pg4\").set(\"data\", 'dset1')\n",
    "    model.result(\"pg4\").feature(\"ff1\").run()\n",
    "    model.result().export(\"plot1\").set(\"filename\", save_str + '.csv')\n",
    "    model.result().export(\"plot1\").set(\"plotgroup\", \"pg4\")\n",
    "    model.result().export(\"plot1\").set(\"plot\", \"ff1\")\n",
    "    \n",
    "    model.result().export(\"plot1\").run()\n",
    "\n",
    "    return grids_of_interest"
   ]
  },
  {
   "cell_type": "code",
   "execution_count": 4,
   "id": "223f2af1",
   "metadata": {},
   "outputs": [],
   "source": [
    "ff = [21-26, 33-38, 45-50, 57-62, 69-74, 81-86, 93-98, 105-110, 117-122, 129-134, 141-146, 153-158, 165-170, 177-182, 189-194, 201-206, 213-218, 225-230]\n",
    "scat = [1, 2, 5-7, 21-26, 33-38, 45-50, 57-62, 69-74, 81-86, 93-98, 105-110, 117-122, 129-134, 141-146, 153-158, 165-170, 177-182, 189-194, 201-206, 213-218, 225-231, 233, 236, 237]\n",
    "start_client('D:/Josh/Fall 2021/ML-LWA/ptest.mph')\n",
    "\n",
    "save_str = 'C:/Users/THzAbacus/Documents/Josh/LeakyWaveML/comsol_results/' + 'period_test2'\n",
    "\n",
    "model.geom(\"geom1\").runAll();\n",
    "model.mesh().run();\n",
    "model.sol(\"sol1\").runAll();\n",
    "\n",
    "model.result(\"pg4\").set(\"data\", 'dset1')\n",
    "model.result(\"pg4\").feature(\"ff1\").run()\n",
    "model.result().export(\"plot1\").set(\"filename\", save_str + '.csv')\n",
    "model.result().export(\"plot1\").set(\"plotgroup\", \"pg4\")\n",
    "model.result().export(\"plot1\").set(\"plot\", \"ff1\")\n",
    "\n",
    "model.result().export(\"plot1\").run()"
   ]
  },
  {
   "cell_type": "markdown",
   "id": "268e1af6",
   "metadata": {},
   "source": [
    "<h1>Please don't close out of this, very long simulation in progress! Using the computer is fine just don't close this window, thanks! -Josh</h1>"
   ]
  },
  {
   "cell_type": "code",
   "execution_count": null,
   "id": "1959e18d",
   "metadata": {},
   "outputs": [],
   "source": [
    "for instance in tqdm(np.arange(10)):\n",
    "    img_list = []\n",
    "\n",
    "    save_str = 'C:/Users/THzAbacus/Documents/Josh/LeakyWaveML/comsol_results/' + str(int(time.time()))\n",
    "\n",
    "    start_client(path)\n",
    "    start_time = time.time()\n",
    "    for i in tqdm(np.arange(500)):\n",
    "        goi = simulate_random()\n",
    "        array = generate_image(goi)\n",
    "        img_list.append(array)\n",
    "\n",
    "    print(time.time() - start_time, 'seconds')\n",
    "\n",
    "    with open(save_str + '.pkl', 'wb') as file:\n",
    "        pickle.dump(img_list, file)"
   ]
  },
  {
   "cell_type": "code",
   "execution_count": null,
   "id": "2cf44006",
   "metadata": {},
   "outputs": [],
   "source": [
    "model.save('D:/Josh/Fall 2021/ML-LWA/check.mph')"
   ]
  },
  {
   "cell_type": "code",
   "execution_count": null,
   "id": "505978bd",
   "metadata": {},
   "outputs": [],
   "source": []
  }
 ],
 "metadata": {
  "kernelspec": {
   "display_name": "Python 3 (ipykernel)",
   "language": "python",
   "name": "python3"
  },
  "language_info": {
   "codemirror_mode": {
    "name": "ipython",
    "version": 3
   },
   "file_extension": ".py",
   "mimetype": "text/x-python",
   "name": "python",
   "nbconvert_exporter": "python",
   "pygments_lexer": "ipython3",
   "version": "3.9.7"
  }
 },
 "nbformat": 4,
 "nbformat_minor": 5
}
