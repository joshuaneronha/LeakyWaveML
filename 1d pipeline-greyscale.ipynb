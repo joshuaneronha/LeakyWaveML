{
 "cells": [
  {
   "cell_type": "code",
   "execution_count": 1,
   "id": "ac809e3b",
   "metadata": {},
   "outputs": [],
   "source": [
    "import random\n",
    "import mph\n",
    "import numpy as np\n",
    "import matplotlib.pyplot as plt\n",
    "import os    \n",
    "import time\n",
    "from tqdm.notebook import tqdm\n",
    "import pickle\n",
    "os.environ['KMP_DUPLICATE_LIB_OK']='True'\n",
    "import tensorflow as tf\n",
    "\n",
    "path = 'D:/Josh/Fall 2021/ML-LWA/partialslotsmodel_transuse.mph'\n",
    "\n",
    "scattering = [1,2,5,6,7,51,53,56,57]"
   ]
  },
  {
   "cell_type": "code",
   "execution_count": 5,
   "id": "9981647c",
   "metadata": {},
   "outputs": [],
   "source": [
    "def start_client(path):\n",
    "    global model\n",
    "    global pymodel\n",
    "    global client\n",
    "    client = mph.start(version = '5.3a')\n",
    "    pymodel = client.load(path)\n",
    "    model = pymodel.java\n",
    "    \n",
    "def save_model(path):\n",
    "    model.save(path)\n",
    "    \n",
    "def generate_image(random_pattern):\n",
    "    adjusted = [x - 15 for x in random_pattern]\n",
    "    out = np.flip(np.array([1 if x in adjusted else 0 for x in np.arange(36)]))\n",
    "    return out\n",
    "    \n",
    "# def simulate_random():\n",
    "#     global start_count\n",
    "# #     grids_of_interest = [random.randint(15,50) for i in range(0,random.randint(1,36))]\n",
    "# #     grids_of_interest = [random.randint(15,50) for i in range(0,18)]\n",
    "#     grids_of_interest = random.sample(range(15,51),18)\n",
    "#     this_scattering = scattering + grids_of_interest\n",
    "    \n",
    "#     model.physics(\"emw\").feature(\"sctr1\").selection().set(this_scattering);\n",
    "#     model.physics(\"emw\").feature(\"ffd1\").feature(\"ffc1\").selection().set(grids_of_interest);\n",
    "\n",
    "#     model.geom(\"geom1\").runAll();\n",
    "#     model.mesh().run();\n",
    "#     model.sol(\"sol1\").runAll();\n",
    "    \n",
    "#     model.result(\"pg4\").set(\"data\", 'dset1')\n",
    "#     model.result(\"pg4\").feature(\"ff1\").run()\n",
    "#     model.result().export(\"plot1\").set(\"filename\", save_str + '.csv')\n",
    "#     model.result().export(\"plot1\").set(\"plotgroup\", \"pg4\")\n",
    "#     model.result().export(\"plot1\").set(\"plot\", \"ff1\")\n",
    "    \n",
    "#     model.result().export(\"plot1\").run()\n",
    "\n",
    "#     return grids_of_interest\n",
    "\n",
    "def simulate(vals):\n",
    "    global start_count\n",
    "    \n",
    "    vals = list(vals)\n",
    "    \n",
    "    bucket_list = [0, 0.125, 0.25, 0.375, 0.5, 0.625, 0.75, 0.875, 1.0]\n",
    "#     bucket_list = [0, 0.5, 1.0]\n",
    "    \n",
    "    buckets = []\n",
    "    \n",
    "    for out_index,bucket in enumerate(bucket_list):\n",
    "        if out_index == 0:\n",
    "            pass\n",
    "        else:\n",
    "            out_list = [index + 18 for index,slot in enumerate(vals) if ((slot <= bucket) & (slot > bucket_list[out_index-1]))]\n",
    "            buckets.append([x-1 if x == 18 else x for x in out_list])\n",
    "\n",
    "    for i in np.arange(0,8):\n",
    "        model.physics(\"emw\").feature(\"trans\" + str(i + 1)).selection().set(buckets[i]);\n",
    "\n",
    "    model.geom(\"geom1\").runAll();\n",
    "    model.mesh().run();\n",
    "    model.sol(\"sol1\").runAll();\n",
    "    \n",
    "    model.result(\"pg4\").set(\"data\", 'dset1')\n",
    "    model.result(\"pg4\").feature(\"ff1\").run()\n",
    "    model.result().export(\"plot1\").set(\"filename\", save_str + '.csv')\n",
    "    model.result().export(\"plot1\").set(\"plotgroup\", \"pg4\")\n",
    "    model.result().export(\"plot1\").set(\"plot\", \"ff1\")\n",
    "    \n",
    "    model.result().export(\"plot1\").run()\n"
   ]
  },
  {
   "cell_type": "markdown",
   "id": "268e1af6",
   "metadata": {},
   "source": [
    "<h1>Please don't close out of this, very long simulation in progress! Using the computer is fine just don't close this window, thanks!</h1>\n",
    "\n",
    "<h4>Light simulations should work fine but if you need to do anything heavy, click Kernel in the toolbar above and just hit shutdown, just shoot me (Josh) an email if you need to do that.</h4>"
   ]
  },
  {
   "cell_type": "code",
   "execution_count": null,
   "id": "1959e18d",
   "metadata": {
    "scrolled": true
   },
   "outputs": [],
   "source": [
    "for instance in tqdm(np.arange(10)):\n",
    "    img_list = []\n",
    "\n",
    "    save_str = 'C:/Users/THzAbacus/Documents/Josh/LeakyWaveML/comsol_results/1dconstantslots/' + str(int(time.time()))\n",
    "\n",
    "    start_client(path)\n",
    "    start_time = time.time()\n",
    "    for i in tqdm(np.arange(500)):\n",
    "        goi = simulate_random()\n",
    "        array = generate_image(goi)\n",
    "        img_list.append(array)\n",
    "\n",
    "    print(time.time() - start_time, 'seconds')\n",
    "\n",
    "    with open(save_str + '.pkl', 'wb') as file:\n",
    "        pickle.dump(img_list, file)"
   ]
  },
  {
   "cell_type": "code",
   "execution_count": null,
   "id": "2cf44006",
   "metadata": {
    "scrolled": true
   },
   "outputs": [],
   "source": [
    "model.save('D:/Josh/Fall 2021/ML-LWA/check1d3.mph')"
   ]
  },
  {
   "cell_type": "code",
   "execution_count": 3,
   "id": "549bcbff",
   "metadata": {},
   "outputs": [],
   "source": [
    "with open('1d/peaks_to_slot/constant_power/results/test_data.pkl', 'rb') as pkl_file:\n",
    "    slots, true, preds = pickle.load(pkl_file)"
   ]
  },
  {
   "cell_type": "code",
   "execution_count": 6,
   "id": "47ac5e2a",
   "metadata": {},
   "outputs": [
    {
     "data": {
      "application/vnd.jupyter.widget-view+json": {
       "model_id": "df505ec7f30a40a180622105f2e7ebc2",
       "version_major": 2,
       "version_minor": 0
      },
      "text/plain": [
       "  0%|          | 0/500 [00:00<?, ?it/s]"
      ]
     },
     "metadata": {},
     "output_type": "display_data"
    },
    {
     "name": "stdout",
     "output_type": "stream",
     "text": [
      "24075.35084605217 seconds\n"
     ]
    }
   ],
   "source": [
    "# img_list = []\n",
    "\n",
    "save_str = 'C:/Users/THzAbacus/Documents/Josh/LeakyWaveML/comsol_results/grey_trans'\n",
    "\n",
    "start_client(path)\n",
    "start_time = time.time()\n",
    "for i in tqdm(np.arange(500)):\n",
    "      \n",
    "#     assump = list(np.where(np.flip(preds[i]))[0] + 15)\n",
    "\n",
    "#     naive = list(np.where(np.flip(tf.round(prediction[i])))[0] + 15)\n",
    "    \n",
    "    goi = simulate(np.flip(preds[i]))\n",
    "#     array = generate_image(goi)\n",
    "#     img_list.append(array)\n",
    "    \n",
    "#     goi = simulate(naive)\n",
    "#     array = generate_image(goi)\n",
    "#     img_list.append(array)\n",
    "\n",
    "print(time.time() - start_time, 'seconds')\n",
    "\n",
    "# with open(save_str + '.pkl', 'wb') as file:\n",
    "#     pickle.dump(img_list, file)"
   ]
  },
  {
   "cell_type": "code",
   "execution_count": null,
   "id": "71cf9e93",
   "metadata": {},
   "outputs": [],
   "source": [
    "save_model('D:/Josh/Fall 2021/ML-LWA/partialslotsmodel_forusee2.mph')"
   ]
  },
  {
   "cell_type": "code",
   "execution_count": null,
   "id": "b2775a42",
   "metadata": {},
   "outputs": [],
   "source": [
    "plt.imshow(tf.expand_dims(true[1],1),cmap='YlGnBu')"
   ]
  },
  {
   "cell_type": "code",
   "execution_count": null,
   "id": "f52d8db8",
   "metadata": {},
   "outputs": [],
   "source": [
    "plt.imshow(tf.expand_dims(preds[0],1),cmap='YlGnBu')\n",
    "plt.colorbar()"
   ]
  },
  {
   "cell_type": "code",
   "execution_count": null,
   "id": "c66d6483",
   "metadata": {},
   "outputs": [],
   "source": [
    "np.flip(preds[0])[35]"
   ]
  },
  {
   "cell_type": "code",
   "execution_count": null,
   "id": "1cced3e7",
   "metadata": {},
   "outputs": [],
   "source": [
    "# start_client(path)\n",
    "simulate(np.flip(preds[0]))\n",
    "# save_model('D:/Josh/Fall 2021/ML-LWA/partialslotsmodel_test2.mph')"
   ]
  },
  {
   "cell_type": "code",
   "execution_count": null,
   "id": "8fff5ab7",
   "metadata": {},
   "outputs": [],
   "source": [
    "start_client(path)\n",
    "simulate(np.flip(preds[0]))\n",
    "# save_model('D:/Josh/Fall 2021/ML-LWA/partialslotsmodel_test2.mph')"
   ]
  },
  {
   "cell_type": "code",
   "execution_count": null,
   "id": "d52b499a",
   "metadata": {},
   "outputs": [],
   "source": [
    "save_model('D:/Josh/Fall 2021/ML-LWA/partialslotsmodel_test4.mph')"
   ]
  },
  {
   "cell_type": "code",
   "execution_count": null,
   "id": "8697bc61",
   "metadata": {},
   "outputs": [],
   "source": [
    "plt.imshow(tf.expand_dims(preds[0],1),cmap='YlGnBu')\n",
    "plt.colorbar()"
   ]
  },
  {
   "cell_type": "code",
   "execution_count": null,
   "id": "005a1353",
   "metadata": {},
   "outputs": [],
   "source": []
  }
 ],
 "metadata": {
  "kernelspec": {
   "display_name": "Python 3 (ipykernel)",
   "language": "python",
   "name": "python3"
  },
  "language_info": {
   "codemirror_mode": {
    "name": "ipython",
    "version": 3
   },
   "file_extension": ".py",
   "mimetype": "text/x-python",
   "name": "python",
   "nbconvert_exporter": "python",
   "pygments_lexer": "ipython3",
   "version": "3.9.7"
  }
 },
 "nbformat": 4,
 "nbformat_minor": 5
}
