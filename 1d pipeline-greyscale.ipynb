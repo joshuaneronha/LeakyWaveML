{
 "cells": [
  {
   "cell_type": "code",
   "execution_count": null,
   "id": "ac809e3b",
   "metadata": {},
   "outputs": [],
   "source": [
    "import random\n",
    "import mph\n",
    "import numpy as np\n",
    "import matplotlib.pyplot as plt\n",
    "import os    \n",
    "import time\n",
    "from tqdm.notebook import tqdm\n",
    "import pickle\n",
    "os.environ['KMP_DUPLICATE_LIB_OK']='True'\n",
    "import tensorflow as tf\n",
    "\n",
    "path = 'D:/Josh/Fall 2021/ML-LWA/partialslotsmodel_transuse.mph'\n",
    "\n",
    "scattering = [1,2,5,6,7,51,53,56,57]"
   ]
  },
  {
   "cell_type": "code",
   "execution_count": null,
   "id": "9981647c",
   "metadata": {},
   "outputs": [],
   "source": [
    "def start_client(path):\n",
    "    global model\n",
    "    global pymodel\n",
    "    global client\n",
    "    client = mph.start(version = '5.3a')\n",
    "    pymodel = client.load(path)\n",
    "    model = pymodel.java\n",
    "    \n",
    "def save_model(path):\n",
    "    model.save(path)\n",
    "    \n",
    "def generate_image(random_pattern):\n",
    "    return np.flip(np.array(random_pattern) / 4)\n",
    "    \n",
    "def simulate_random():\n",
    "    global start_count\n",
    "    \n",
    "    vals = np.random.randint(5, size = 36)\n",
    "\n",
    "    while (sum(vals) / len(vals) < 1.9) or (sum(vals) / len(vals) > 2.1):\n",
    "        vals = np.random.randint(5, size = 36)\n",
    "        \n",
    "    vals = list(vals)\n",
    "\n",
    "    bucket_list = [0, 1, 2, 3, 4]\n",
    "    \n",
    "    buckets = []\n",
    "    \n",
    "    for out_index,bucket in enumerate(bucket_list):\n",
    "        out_list = [index + 18 for index,slot in enumerate(vals) if slot == bucket]\n",
    "        buckets.append([x-1 if x == 18 else x for x in out_list])\n",
    "        \n",
    "#     return buckets\n",
    "\n",
    "    for i in np.arange(0,5):\n",
    "        model.physics(\"emw\").feature(\"trans\" + str(i + 1)).selection().set(buckets[i]);\n",
    "\n",
    "    model.geom(\"geom1\").runAll();\n",
    "    model.mesh().run();\n",
    "    model.sol(\"sol1\").runAll();\n",
    "    \n",
    "    model.result(\"pg4\").set(\"data\", 'dset1')\n",
    "    model.result(\"pg4\").feature(\"ff1\").run()\n",
    "    model.result().export(\"plot1\").set(\"filename\", save_str + '.csv')\n",
    "    model.result().export(\"plot1\").set(\"plotgroup\", \"pg4\")\n",
    "    model.result().export(\"plot1\").set(\"plot\", \"ff1\")\n",
    "    \n",
    "    model.result().export(\"plot1\").run()\n",
    "    \n",
    "    return vals\n",
    "\n",
    "# def simulate(vals):\n",
    "#     global start_count\n",
    "    \n",
    "#     vals = list(vals)\n",
    "    \n",
    "#     bucket_list = [0, 0.125, 0.25, 0.375, 0.5, 0.625, 0.75, 0.875, 1.0, 1.125]\n",
    "# #     bucket_list = [0, 0.5, 1.0]\n",
    "    \n",
    "#     buckets = []\n",
    "    \n",
    "#     for out_index,bucket in enumerate(bucket_list):\n",
    "#         if out_index == 0:\n",
    "#             pass\n",
    "#         else:\n",
    "#             out_list = [index + 18 for index,slot in enumerate(vals) if ((slot <= bucket) & (slot > bucket_list[out_index-1]))]\n",
    "#             buckets.append([x-1 if x == 18 else x for x in out_list])\n",
    "\n",
    "#     for i in np.arange(0,8):\n",
    "#         model.physics(\"emw\").feature(\"trans\" + str(i + 1)).selection().set(buckets[i]);\n",
    "\n",
    "#     model.geom(\"geom1\").runAll();\n",
    "#     model.mesh().run();\n",
    "#     model.sol(\"sol1\").runAll();\n",
    "    \n",
    "#     model.result(\"pg4\").set(\"data\", 'dset1')\n",
    "#     model.result(\"pg4\").feature(\"ff1\").run()\n",
    "#     model.result().export(\"plot1\").set(\"filename\", save_str + '.csv')\n",
    "#     model.result().export(\"plot1\").set(\"plotgroup\", \"pg4\")\n",
    "#     model.result().export(\"plot1\").set(\"plot\", \"ff1\")\n",
    "    \n",
    "#     model.result().export(\"plot1\").run()\n"
   ]
  },
  {
   "cell_type": "code",
   "execution_count": null,
   "id": "51caa330",
   "metadata": {},
   "outputs": [],
   "source": [
    "plt.imshow(tf.expand_dims(simulate_random(),1))"
   ]
  },
  {
   "cell_type": "code",
   "execution_count": null,
   "id": "4ff3a3fd",
   "metadata": {},
   "outputs": [],
   "source": [
    "out = simulate_random()\n",
    "img = generate_image(out)\n",
    "plt.imshow(tf.expand_dims(img,1))\n",
    "plt.colorbar()"
   ]
  },
  {
   "cell_type": "code",
   "execution_count": null,
   "id": "f5e59c2f",
   "metadata": {},
   "outputs": [],
   "source": [
    "first = []\n",
    "second = []\n",
    "third = []\n",
    "fourth =[]\n",
    "fifth = []\n",
    "for i in np.arange(20000):\n",
    "    one,two,three,four,five = simulate_random()\n",
    "    first.append(len(one))\n",
    "    fifth.append(len(five))\n",
    "    second.append(len(two))\n",
    "    third.append(len(three))\n",
    "    fourth.append(len(four))"
   ]
  },
  {
   "cell_type": "code",
   "execution_count": null,
   "id": "105c2207",
   "metadata": {},
   "outputs": [],
   "source": [
    "sum(first) / len(first)"
   ]
  },
  {
   "cell_type": "code",
   "execution_count": null,
   "id": "2ba22cae",
   "metadata": {},
   "outputs": [],
   "source": [
    "sum(fifth) / len(fifth)"
   ]
  },
  {
   "cell_type": "code",
   "execution_count": null,
   "id": "fc3f89d4",
   "metadata": {},
   "outputs": [],
   "source": [
    "vals = np.random.uniform(0,1.12,32)\n",
    "    \n",
    "while (vals.sum() < 15.5) or (vals.sum() > 16.5):\n",
    "    print('going')\n",
    "    vals = np.random.uniform(0,1,32)"
   ]
  },
  {
   "cell_type": "code",
   "execution_count": null,
   "id": "6ece1f75",
   "metadata": {},
   "outputs": [],
   "source": [
    "vals.sum()"
   ]
  },
  {
   "cell_type": "code",
   "execution_count": null,
   "id": "6d5beb39",
   "metadata": {},
   "outputs": [],
   "source": [
    "plt.imshow(tf.expand_dims(img_list[0],1),cmap='YlGnBu')"
   ]
  },
  {
   "cell_type": "markdown",
   "id": "268e1af6",
   "metadata": {},
   "source": [
    "<h1>Please don't close out of this, very long simulation in progress! Using the computer is fine just don't close this window, thanks!</h1>\n",
    "\n",
    "<h4>Light simulations should work fine but if you need to do anything heavy, click Kernel in the toolbar above and just hit shutdown, just shoot me (Josh) an email if you need to do that.</h4>"
   ]
  },
  {
   "cell_type": "code",
   "execution_count": null,
   "id": "1959e18d",
   "metadata": {
    "scrolled": true
   },
   "outputs": [
    {
     "data": {
      "application/vnd.jupyter.widget-view+json": {
       "model_id": "efaa9c19fc4940f1a436dcbc7086346c",
       "version_major": 2,
       "version_minor": 0
      },
      "text/plain": [
       "  0%|          | 0/10 [00:00<?, ?it/s]"
      ]
     },
     "metadata": {},
     "output_type": "display_data"
    },
    {
     "data": {
      "application/vnd.jupyter.widget-view+json": {
       "model_id": "daeb659eb88e456da6ad3b5812425463",
       "version_major": 2,
       "version_minor": 0
      },
      "text/plain": [
       "  0%|          | 0/500 [00:00<?, ?it/s]"
      ]
     },
     "metadata": {},
     "output_type": "display_data"
    },
    {
     "name": "stdout",
     "output_type": "stream",
     "text": [
      "23793.569131851196 seconds\n"
     ]
    },
    {
     "data": {
      "application/vnd.jupyter.widget-view+json": {
       "model_id": "c7e1df4556c44ed6a66c847ac643411f",
       "version_major": 2,
       "version_minor": 0
      },
      "text/plain": [
       "  0%|          | 0/500 [00:00<?, ?it/s]"
      ]
     },
     "metadata": {},
     "output_type": "display_data"
    },
    {
     "name": "stdout",
     "output_type": "stream",
     "text": [
      "23928.86271095276 seconds\n"
     ]
    },
    {
     "data": {
      "application/vnd.jupyter.widget-view+json": {
       "model_id": "824ebc67be7a42c5ab4a91bd693156ef",
       "version_major": 2,
       "version_minor": 0
      },
      "text/plain": [
       "  0%|          | 0/500 [00:00<?, ?it/s]"
      ]
     },
     "metadata": {},
     "output_type": "display_data"
    },
    {
     "name": "stdout",
     "output_type": "stream",
     "text": [
      "24037.029280900955 seconds\n"
     ]
    },
    {
     "data": {
      "application/vnd.jupyter.widget-view+json": {
       "model_id": "c4e86b7c6c5d44528e33622874a6797e",
       "version_major": 2,
       "version_minor": 0
      },
      "text/plain": [
       "  0%|          | 0/500 [00:00<?, ?it/s]"
      ]
     },
     "metadata": {},
     "output_type": "display_data"
    },
    {
     "name": "stdout",
     "output_type": "stream",
     "text": [
      "24302.752476215363 seconds\n"
     ]
    },
    {
     "data": {
      "application/vnd.jupyter.widget-view+json": {
       "model_id": "68667374dea44dffadb1d03deef967f0",
       "version_major": 2,
       "version_minor": 0
      },
      "text/plain": [
       "  0%|          | 0/500 [00:00<?, ?it/s]"
      ]
     },
     "metadata": {},
     "output_type": "display_data"
    },
    {
     "name": "stdout",
     "output_type": "stream",
     "text": [
      "24296.184742689133 seconds\n"
     ]
    },
    {
     "data": {
      "application/vnd.jupyter.widget-view+json": {
       "model_id": "20dc43be112840679aa453df46046924",
       "version_major": 2,
       "version_minor": 0
      },
      "text/plain": [
       "  0%|          | 0/500 [00:00<?, ?it/s]"
      ]
     },
     "metadata": {},
     "output_type": "display_data"
    },
    {
     "name": "stdout",
     "output_type": "stream",
     "text": [
      "24193.521943092346 seconds\n"
     ]
    },
    {
     "data": {
      "application/vnd.jupyter.widget-view+json": {
       "model_id": "7617132e35fa459982f547843ed4b9da",
       "version_major": 2,
       "version_minor": 0
      },
      "text/plain": [
       "  0%|          | 0/500 [00:00<?, ?it/s]"
      ]
     },
     "metadata": {},
     "output_type": "display_data"
    },
    {
     "name": "stdout",
     "output_type": "stream",
     "text": [
      "24313.98449778557 seconds\n"
     ]
    },
    {
     "data": {
      "application/vnd.jupyter.widget-view+json": {
       "model_id": "2e21fd2d5f9446f6a8d43d6b4437dc27",
       "version_major": 2,
       "version_minor": 0
      },
      "text/plain": [
       "  0%|          | 0/500 [00:00<?, ?it/s]"
      ]
     },
     "metadata": {},
     "output_type": "display_data"
    },
    {
     "name": "stdout",
     "output_type": "stream",
     "text": [
      "24427.322726249695 seconds\n"
     ]
    },
    {
     "data": {
      "application/vnd.jupyter.widget-view+json": {
       "model_id": "0d70c0d6cc294a03ba1baf42c4114f57",
       "version_major": 2,
       "version_minor": 0
      },
      "text/plain": [
       "  0%|          | 0/500 [00:00<?, ?it/s]"
      ]
     },
     "metadata": {},
     "output_type": "display_data"
    },
    {
     "name": "stdout",
     "output_type": "stream",
     "text": [
      "24468.13727593422 seconds\n"
     ]
    },
    {
     "data": {
      "application/vnd.jupyter.widget-view+json": {
       "model_id": "122976b47fdd471799c32b175f14658e",
       "version_major": 2,
       "version_minor": 0
      },
      "text/plain": [
       "  0%|          | 0/500 [00:00<?, ?it/s]"
      ]
     },
     "metadata": {},
     "output_type": "display_data"
    }
   ],
   "source": [
    "for instance in tqdm(np.arange(10)):\n",
    "    img_list = []\n",
    "\n",
    "    save_str = 'C:/Users/THzAbacus/Documents/Josh/LeakyWaveML/comsol_results/1dgrey/' + str(int(time.time()))\n",
    "\n",
    "    start_client(path)\n",
    "    start_time = time.time()\n",
    "    for i in tqdm(np.arange(500)):\n",
    "        goi = simulate_random()\n",
    "        img = generate_image(goi)\n",
    "        img_list.append(img)\n",
    "\n",
    "    print(time.time() - start_time, 'seconds')\n",
    "\n",
    "    with open(save_str + '.pkl', 'wb') as file:\n",
    "        pickle.dump(img_list, file)"
   ]
  },
  {
   "cell_type": "code",
   "execution_count": null,
   "id": "bae55830",
   "metadata": {},
   "outputs": [],
   "source": [
    "for instance in tqdm(np.arange(10)):\n",
    "    img_list = []\n",
    "\n",
    "    save_str = 'C:/Users/THzAbacus/Documents/Josh/LeakyWaveML/comsol_results/1dgrey/' + str(int(time.time()))\n",
    "\n",
    "    start_client(path)\n",
    "    start_time = time.time()\n",
    "    for i in tqdm(np.arange(500)):\n",
    "        goi = simulate_random()\n",
    "        img = generate_image(goi)\n",
    "        img_list.append(img)\n",
    "\n",
    "    print(time.time() - start_time, 'seconds')\n",
    "\n",
    "    with open(save_str + '.pkl', 'wb') as file:\n",
    "        pickle.dump(img_list, file)"
   ]
  },
  {
   "cell_type": "code",
   "execution_count": null,
   "id": "2cf44006",
   "metadata": {
    "scrolled": true
   },
   "outputs": [],
   "source": [
    "model.save('D:/Josh/Fall 2021/ML-LWA/check1dgrey6.mph')"
   ]
  },
  {
   "cell_type": "code",
   "execution_count": null,
   "id": "259f4f32",
   "metadata": {},
   "outputs": [],
   "source": [
    "len(img_list)"
   ]
  },
  {
   "cell_type": "code",
   "execution_count": null,
   "id": "fe67d27c",
   "metadata": {},
   "outputs": [],
   "source": [
    "plt.imshow(tf.expand_dims(img_list[0],1))\n",
    "plt.colorbar()"
   ]
  },
  {
   "cell_type": "code",
   "execution_count": null,
   "id": "549bcbff",
   "metadata": {},
   "outputs": [],
   "source": [
    "with open('1d/peaks_to_slot/constant_power/results/test_data.pkl', 'rb') as pkl_file:\n",
    "    slots, true, preds = pickle.load(pkl_file)"
   ]
  },
  {
   "cell_type": "code",
   "execution_count": null,
   "id": "47ac5e2a",
   "metadata": {},
   "outputs": [],
   "source": [
    "# img_list = []\n",
    "\n",
    "save_str = 'C:/Users/THzAbacus/Documents/Josh/LeakyWaveML/comsol_results/grey_trans'\n",
    "\n",
    "start_client(path)\n",
    "start_time = time.time()\n",
    "for i in tqdm(np.arange(500)):\n",
    "      \n",
    "#     assump = list(np.where(np.flip(preds[i]))[0] + 15)\n",
    "\n",
    "#     naive = list(np.where(np.flip(tf.round(prediction[i])))[0] + 15)\n",
    "    \n",
    "    goi = simulate(np.flip(preds[i]))\n",
    "#     array = generate_image(goi)\n",
    "#     img_list.append(array)\n",
    "    \n",
    "#     goi = simulate(naive)\n",
    "#     array = generate_image(goi)\n",
    "#     img_list.append(array)\n",
    "\n",
    "print(time.time() - start_time, 'seconds')\n",
    "\n",
    "# with open(save_str + '.pkl', 'wb') as file:\n",
    "#     pickle.dump(img_list, file)"
   ]
  },
  {
   "cell_type": "code",
   "execution_count": null,
   "id": "40389bd2",
   "metadata": {},
   "outputs": [],
   "source": [
    "save_model('D:/Josh/Fall 2021/ML-LWA/partialslotsmodel_forusee2.mph')"
   ]
  },
  {
   "cell_type": "code",
   "execution_count": null,
   "id": "3e78949f",
   "metadata": {},
   "outputs": [],
   "source": [
    "plt.imshow(tf.expand_dims(true[1],1),cmap='YlGnBu')"
   ]
  },
  {
   "cell_type": "code",
   "execution_count": null,
   "id": "1e73e63a",
   "metadata": {},
   "outputs": [],
   "source": [
    "plt.imshow(tf.expand_dims(preds[0],1),cmap='YlGnBu')\n",
    "plt.colorbar()"
   ]
  },
  {
   "cell_type": "code",
   "execution_count": null,
   "id": "a6dd35b9",
   "metadata": {},
   "outputs": [],
   "source": [
    "np.flip(preds[0])[35]"
   ]
  },
  {
   "cell_type": "code",
   "execution_count": null,
   "id": "bd48d6b9",
   "metadata": {},
   "outputs": [],
   "source": [
    "# start_client(path)\n",
    "simulate(np.flip(preds[0]))\n",
    "# save_model('D:/Josh/Fall 2021/ML-LWA/partialslotsmodel_test2.mph')"
   ]
  },
  {
   "cell_type": "code",
   "execution_count": null,
   "id": "804dc87f",
   "metadata": {},
   "outputs": [],
   "source": [
    "start_client(path)\n",
    "simulate(np.flip(preds[0]))\n",
    "# save_model('D:/Josh/Fall 2021/ML-LWA/partialslotsmodel_test2.mph')"
   ]
  },
  {
   "cell_type": "code",
   "execution_count": null,
   "id": "fd7cad26",
   "metadata": {},
   "outputs": [],
   "source": [
    "save_model('D:/Josh/Fall 2021/ML-LWA/partialslotsmodel_test4.mph')"
   ]
  },
  {
   "cell_type": "code",
   "execution_count": null,
   "id": "d126e080",
   "metadata": {},
   "outputs": [],
   "source": [
    "plt.imshow(tf.expand_dims(preds[0],1),cmap='YlGnBu')\n",
    "plt.colorbar()"
   ]
  },
  {
   "cell_type": "code",
   "execution_count": null,
   "id": "47654d49",
   "metadata": {},
   "outputs": [],
   "source": []
  }
 ],
 "metadata": {
  "kernelspec": {
   "display_name": "Python 3 (ipykernel)",
   "language": "python",
   "name": "python3"
  },
  "language_info": {
   "codemirror_mode": {
    "name": "ipython",
    "version": 3
   },
   "file_extension": ".py",
   "mimetype": "text/x-python",
   "name": "python",
   "nbconvert_exporter": "python",
   "pygments_lexer": "ipython3",
   "version": "3.9.7"
  }
 },
 "nbformat": 4,
 "nbformat_minor": 5
}
