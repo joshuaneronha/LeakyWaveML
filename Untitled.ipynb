{
 "cells": [
  {
   "cell_type": "code",
   "execution_count": 62,
   "id": "f15bd2c1",
   "metadata": {},
   "outputs": [],
   "source": [
    "def start_client(path):\n",
    "    global model\n",
    "    global pymodel\n",
    "    global client\n",
    "    client = mph.start(version = '5.3a')\n",
    "    pymodel = client.load(path)\n",
    "    model = pymodel.java\n",
    "    \n",
    "def save_model(path):\n",
    "    model.save(path)\n",
    "    \n",
    "def generate_image(random_pattern):\n",
    "    return np.flip(np.array(random_pattern) / 4)\n",
    "    \n",
    "def simulate_random():\n",
    "    global start_count\n",
    "    \n",
    "    vals = np.random.randint(5, size = 36)\n",
    "\n",
    "    while (sum(vals) / len(vals) < 1.9) or (sum(vals) / len(vals) > 2.1):\n",
    "        vals = np.random.randint(5, size = 36)\n",
    "        \n",
    "    vals = list(vals)\n",
    "    \n",
    "#     return vals\n",
    "\n",
    "    bucket_list = [0, 1, 2, 3, 4]\n",
    "    \n",
    "    buckets = []\n",
    "    \n",
    "    for out_index,bucket in enumerate(bucket_list):\n",
    "        out_list = [index + 18 for index,slot in enumerate(vals) if slot == bucket]\n",
    "        buckets.append([x-1 if x == 18 else x for x in out_list])\n",
    "        \n",
    "#     return buckets\n",
    "\n",
    "#     for i in np.arange(0,5):\n",
    "#         model.physics(\"emw\").feature(\"trans\" + str(i + 1)).selection().set(buckets[i]);\n",
    "\n",
    "#     model.geom(\"geom1\").runAll();\n",
    "#     model.mesh().run();\n",
    "#     model.sol(\"sol1\").runAll();\n",
    "    \n",
    "#     model.result(\"pg4\").set(\"data\", 'dset1')\n",
    "#     model.result(\"pg4\").feature(\"ff1\").run()\n",
    "#     model.result().export(\"plot1\").set(\"filename\", save_str + '.csv')\n",
    "#     model.result().export(\"plot1\").set(\"plotgroup\", \"pg4\")\n",
    "#     model.result().export(\"plot1\").set(\"plot\", \"ff1\")\n",
    "    \n",
    "#     model.result().export(\"plot1\").run()\n",
    "    \n",
    "#     return vals\n",
    "\n",
    "    return buckets, vals\n",
    "\n",
    "def simulate(vals):\n",
    "\n",
    "    bucket_list = [0, 1, 2, 3, 4]\n",
    "    \n",
    "    buckets = []\n",
    "    \n",
    "    for out_index,bucket in enumerate(bucket_list):\n",
    "        out_list = [index + 18 for index,slot in enumerate(vals) if slot == bucket]\n",
    "        buckets.append([x-1 if x == 18 else x for x in out_list])\n",
    "        \n",
    "    return buckets\n",
    "\n",
    "    for i in np.arange(0,5):\n",
    "        model.physics(\"emw\").feature(\"trans\" + str(i + 1)).selection().set(buckets[i]);\n",
    "\n",
    "    model.geom(\"geom1\").runAll();\n",
    "    model.mesh().run();\n",
    "    model.sol(\"sol1\").runAll();\n",
    "    \n",
    "    model.result(\"pg4\").set(\"data\", 'dset1')\n",
    "    model.result(\"pg4\").feature(\"ff1\").run()\n",
    "    model.result().export(\"plot1\").set(\"filename\", save_str + '.csv')\n",
    "    model.result().export(\"plot1\").set(\"plotgroup\", \"pg4\")\n",
    "    model.result().export(\"plot1\").set(\"plot\", \"ff1\")\n",
    "    \n",
    "    model.result().export(\"plot1\").run()\n",
    "    \n",
    "    return vals\n",
    "\n",
    "    return buckets, vals\n"
   ]
  },
  {
   "cell_type": "code",
   "execution_count": 11,
   "id": "dca37d81",
   "metadata": {},
   "outputs": [],
   "source": [
    "import numpy as np\n",
    "import pickle\n",
    "\n",
    "with open('1d/peaks_to_slot/grey/results/simpleloss/test_data.pkl', 'rb') as pkl_file:\n",
    "    slots, true, preds = pickle.load(pkl_file)\n",
    "    \n",
    "preds = np.where((preds > 0) & (preds <= 0.125), 0, preds)\n",
    "preds = np.where((preds > 0.125) & (preds <= 0.375), 0.25, preds)\n",
    "preds = np.where((preds > 0.375) & (preds <= 0.625), 0.50, preds)\n",
    "preds = np.where((preds > 0.625) & (preds <= 0.875), 0.75, preds)\n",
    "preds = np.where((preds > 0.875), 1.00, preds)"
   ]
  },
  {
   "cell_type": "code",
   "execution_count": 4,
   "id": "3ae35878",
   "metadata": {},
   "outputs": [
    {
     "data": {
      "text/plain": [
       "<tf.Tensor: shape=(36,), dtype=float32, numpy=\n",
       "array([0.22723448, 0.02934295, 0.9865649 , 0.935693  , 0.79346085,\n",
       "       0.95973206, 0.90000284, 0.33475667, 0.29789996, 0.235488  ,\n",
       "       0.5446856 , 0.4981564 , 0.7649622 , 0.18792301, 0.92643964,\n",
       "       0.7031788 , 0.402496  , 0.831887  , 0.6877743 , 0.54273844,\n",
       "       0.37612143, 0.16447759, 0.05182743, 0.0355666 , 0.09295729,\n",
       "       0.48108107, 0.21999213, 0.31089044, 0.82787836, 0.26563513,\n",
       "       0.6982317 , 0.76086116, 0.5124925 , 0.8819486 , 0.5570059 ,\n",
       "       0.07726792], dtype=float32)>"
      ]
     },
     "execution_count": 4,
     "metadata": {},
     "output_type": "execute_result"
    }
   ],
   "source": [
    "preds[0]"
   ]
  },
  {
   "cell_type": "code",
   "execution_count": 38,
   "id": "75f84fcb",
   "metadata": {},
   "outputs": [],
   "source": [
    "test = [int(x) for x in np.flip(preds[0]) * 4]"
   ]
  },
  {
   "cell_type": "code",
   "execution_count": 97,
   "id": "da6cd43e",
   "metadata": {},
   "outputs": [],
   "source": [
    "buckets, vals = simulate_random()\n",
    "img = generate_image(vals)\n",
    "val_vals = [int(x) for x in np.flip(preds[0]) * 4]\n",
    "buckets, val_val_vals = simulate(val_vals)"
   ]
  },
  {
   "cell_type": "code",
   "execution_count": 99,
   "id": "b6b926e8",
   "metadata": {},
   "outputs": [
    {
     "data": {
      "text/plain": [
       "array([0, 2, 4, 2, 3, 3, 1, 3, 1, 1, 2, 0, 0, 0, 1, 2, 2, 3, 3, 2, 3, 4,\n",
       "       1, 3, 2, 2, 1, 1, 1, 4, 4, 3, 4, 4, 0, 1])"
      ]
     },
     "execution_count": 99,
     "metadata": {},
     "output_type": "execute_result"
    }
   ],
   "source": [
    "np.array(val_vals)"
   ]
  },
  {
   "cell_type": "code",
   "execution_count": 100,
   "id": "32b8a549",
   "metadata": {},
   "outputs": [
    {
     "data": {
      "text/plain": [
       "([[17, 29, 30, 31, 52],\n",
       "  [24, 26, 27, 32, 40, 44, 45, 46, 53],\n",
       "  [19, 21, 28, 33, 34, 37, 42, 43],\n",
       "  [22, 23, 25, 35, 36, 38, 41, 49],\n",
       "  [20, 39, 47, 48, 50, 51]],\n",
       " [0,\n",
       "  2,\n",
       "  4,\n",
       "  2,\n",
       "  3,\n",
       "  3,\n",
       "  1,\n",
       "  3,\n",
       "  1,\n",
       "  1,\n",
       "  2,\n",
       "  0,\n",
       "  0,\n",
       "  0,\n",
       "  1,\n",
       "  2,\n",
       "  2,\n",
       "  3,\n",
       "  3,\n",
       "  2,\n",
       "  3,\n",
       "  4,\n",
       "  1,\n",
       "  3,\n",
       "  2,\n",
       "  2,\n",
       "  1,\n",
       "  1,\n",
       "  1,\n",
       "  4,\n",
       "  4,\n",
       "  3,\n",
       "  4,\n",
       "  4,\n",
       "  0,\n",
       "  1])"
      ]
     },
     "execution_count": 100,
     "metadata": {},
     "output_type": "execute_result"
    }
   ],
   "source": [
    "buckets, val_val_vals"
   ]
  },
  {
   "cell_type": "code",
   "execution_count": 92,
   "id": "f9664a53",
   "metadata": {},
   "outputs": [
    {
     "data": {
      "text/plain": [
       "array([0.25, 0.5 , 1.  , 0.75, 0.5 , 0.75, 1.  , 0.  , 0.25, 0.75, 0.75,\n",
       "       0.25, 0.5 , 0.25, 0.5 , 1.  , 0.  , 0.75, 0.25, 1.  , 1.  , 0.  ,\n",
       "       0.  , 0.5 , 0.  , 0.  , 1.  , 0.75, 0.75, 0.5 , 0.  , 0.75, 0.75,\n",
       "       0.  , 1.  , 0.75])"
      ]
     },
     "execution_count": 92,
     "metadata": {},
     "output_type": "execute_result"
    }
   ],
   "source": [
    "img"
   ]
  },
  {
   "cell_type": "code",
   "execution_count": 93,
   "id": "eb57a410",
   "metadata": {},
   "outputs": [
    {
     "data": {
      "text/plain": [
       "array([3, 4, 0, 3, 3, 0, 2, 3, 3, 4, 0, 0, 2, 0, 0, 4, 4, 1, 3, 0, 4, 2,\n",
       "       1, 2, 1, 3, 3, 1, 0, 4, 3, 2, 3, 4, 2, 1])"
      ]
     },
     "execution_count": 93,
     "metadata": {},
     "output_type": "execute_result"
    }
   ],
   "source": [
    "np.array(val_vals)"
   ]
  },
  {
   "cell_type": "code",
   "execution_count": 94,
   "id": "6d3a1af2",
   "metadata": {},
   "outputs": [
    {
     "data": {
      "text/plain": [
       "True"
      ]
     },
     "execution_count": 94,
     "metadata": {},
     "output_type": "execute_result"
    }
   ],
   "source": [
    "vals == val_vals"
   ]
  },
  {
   "cell_type": "code",
   "execution_count": 95,
   "id": "bbe995ca",
   "metadata": {},
   "outputs": [
    {
     "data": {
      "text/plain": [
       "True"
      ]
     },
     "execution_count": 95,
     "metadata": {},
     "output_type": "execute_result"
    }
   ],
   "source": [
    "vals == val_val_vals"
   ]
  },
  {
   "cell_type": "code",
   "execution_count": 96,
   "id": "3f9cf257",
   "metadata": {},
   "outputs": [
    {
     "data": {
      "text/plain": [
       "[[20, 23, 28, 29, 31, 32, 37, 46],\n",
       " [35, 40, 42, 45, 53],\n",
       " [24, 30, 39, 41, 49, 52],\n",
       " [17, 21, 22, 25, 26, 36, 43, 44, 48, 50],\n",
       " [19, 27, 33, 34, 38, 47, 51]]"
      ]
     },
     "execution_count": 96,
     "metadata": {},
     "output_type": "execute_result"
    }
   ],
   "source": [
    "buckets"
   ]
  },
  {
   "cell_type": "code",
   "execution_count": null,
   "id": "c03ca922",
   "metadata": {},
   "outputs": [],
   "source": []
  }
 ],
 "metadata": {
  "kernelspec": {
   "display_name": "Python 3 (ipykernel)",
   "language": "python",
   "name": "python3"
  },
  "language_info": {
   "codemirror_mode": {
    "name": "ipython",
    "version": 3
   },
   "file_extension": ".py",
   "mimetype": "text/x-python",
   "name": "python",
   "nbconvert_exporter": "python",
   "pygments_lexer": "ipython3",
   "version": "3.9.7"
  }
 },
 "nbformat": 4,
 "nbformat_minor": 5
}
