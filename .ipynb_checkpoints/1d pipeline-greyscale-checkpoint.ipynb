{
 "cells": [
  {
   "cell_type": "code",
   "execution_count": 49,
   "id": "ac809e3b",
   "metadata": {},
   "outputs": [],
   "source": [
    "import random\n",
    "import mph\n",
    "import numpy as np\n",
    "import matplotlib.pyplot as plt\n",
    "import os    \n",
    "import time\n",
    "from tqdm.notebook import tqdm\n",
    "import pickle\n",
    "os.environ['KMP_DUPLICATE_LIB_OK']='True'\n",
    "import tensorflow as tf\n",
    "\n",
    "path = 'D:/Josh/Fall 2021/ML-LWA/partialslotsmodel.mph'\n",
    "\n",
    "scattering = [1,2,5,6,7,51,53,56,57]"
   ]
  },
  {
   "cell_type": "code",
   "execution_count": 97,
   "id": "9981647c",
   "metadata": {},
   "outputs": [],
   "source": [
    "def start_client(path):\n",
    "    global model\n",
    "    global pymodel\n",
    "    global client\n",
    "    client = mph.start(version = '5.3a')\n",
    "    pymodel = client.load(path)\n",
    "    model = pymodel.java\n",
    "    \n",
    "def save_model(path):\n",
    "    model.save(path)\n",
    "    \n",
    "def generate_image(random_pattern):\n",
    "    adjusted = [x - 15 for x in random_pattern]\n",
    "    out = np.flip(np.array([1 if x in adjusted else 0 for x in np.arange(36)]))\n",
    "    return out\n",
    "    \n",
    "# def simulate_random():\n",
    "#     global start_count\n",
    "# #     grids_of_interest = [random.randint(15,50) for i in range(0,random.randint(1,36))]\n",
    "# #     grids_of_interest = [random.randint(15,50) for i in range(0,18)]\n",
    "#     grids_of_interest = random.sample(range(15,51),18)\n",
    "#     this_scattering = scattering + grids_of_interest\n",
    "    \n",
    "#     model.physics(\"emw\").feature(\"sctr1\").selection().set(this_scattering);\n",
    "#     model.physics(\"emw\").feature(\"ffd1\").feature(\"ffc1\").selection().set(grids_of_interest);\n",
    "\n",
    "#     model.geom(\"geom1\").runAll();\n",
    "#     model.mesh().run();\n",
    "#     model.sol(\"sol1\").runAll();\n",
    "    \n",
    "#     model.result(\"pg4\").set(\"data\", 'dset1')\n",
    "#     model.result(\"pg4\").feature(\"ff1\").run()\n",
    "#     model.result().export(\"plot1\").set(\"filename\", save_str + '.csv')\n",
    "#     model.result().export(\"plot1\").set(\"plotgroup\", \"pg4\")\n",
    "#     model.result().export(\"plot1\").set(\"plot\", \"ff1\")\n",
    "    \n",
    "#     model.result().export(\"plot1\").run()\n",
    "\n",
    "#     return grids_of_interest\n",
    "\n",
    "def simulate(vals):\n",
    "    global start_count\n",
    "    \n",
    "    vals = list(vals)\n",
    "    \n",
    "    bucket_list = [0, 0.125, 0.25, 0.375, 0.5, 0.625, 0.75, 0.875, 1.0]\n",
    "#     bucket_list = [0, 0.5, 1.0]\n",
    "    \n",
    "    buckets = []\n",
    "    \n",
    "    for out_index,bucket in enumerate(bucket_list):\n",
    "        if out_index == 0:\n",
    "            pass\n",
    "        else:\n",
    "            buckets.append([index + 15 for index,slot in enumerate(vals) if ((slot <= bucket) & (slot > bucket_list[out_index-1]))])\n",
    "\n",
    "        \n",
    "    print(buckets)\n",
    "    \n",
    "#     this_scattering = scattering\n",
    "    \n",
    "#     model.physics(\"emw\").feature(\"sctr1\").selection().set(this_scattering);\n",
    "    \n",
    "#     for i in np.arange(0,8):\n",
    "#         model.physics(\"emw\").feature(\"imp\" + str(i + 1)).selection().set(buckets[i]);\n",
    "        \n",
    "        \n",
    "\n",
    "#     model.geom(\"geom1\").runAll();\n",
    "#     model.mesh().run();\n",
    "#     model.sol(\"sol1\").runAll();\n",
    "    \n",
    "#     model.result(\"pg4\").set(\"data\", 'dset1')\n",
    "#     model.result(\"pg4\").feature(\"ff1\").run()\n",
    "#     model.result().export(\"plot1\").set(\"filename\", save_str + '.csv')\n",
    "#     model.result().export(\"plot1\").set(\"plotgroup\", \"pg4\")\n",
    "#     model.result().export(\"plot1\").set(\"plot\", \"ff1\")\n",
    "    \n",
    "#     model.result().export(\"plot1\").run()\n"
   ]
  },
  {
   "cell_type": "markdown",
   "id": "268e1af6",
   "metadata": {},
   "source": [
    "<h1>Please don't close out of this, very long simulation in progress! Using the computer is fine just don't close this window, thanks!</h1>\n",
    "\n",
    "<h4>Light simulations should work fine but if you need to do anything heavy, click Kernel in the toolbar above and just hit shutdown, just shoot me (Josh) an email if you need to do that.</h4>"
   ]
  },
  {
   "cell_type": "code",
   "execution_count": null,
   "id": "1959e18d",
   "metadata": {
    "scrolled": true
   },
   "outputs": [],
   "source": [
    "for instance in tqdm(np.arange(10)):\n",
    "    img_list = []\n",
    "\n",
    "    save_str = 'C:/Users/THzAbacus/Documents/Josh/LeakyWaveML/comsol_results/1dconstantslots/' + str(int(time.time()))\n",
    "\n",
    "    start_client(path)\n",
    "    start_time = time.time()\n",
    "    for i in tqdm(np.arange(500)):\n",
    "        goi = simulate_random()\n",
    "        array = generate_image(goi)\n",
    "        img_list.append(array)\n",
    "\n",
    "    print(time.time() - start_time, 'seconds')\n",
    "\n",
    "    with open(save_str + '.pkl', 'wb') as file:\n",
    "        pickle.dump(img_list, file)"
   ]
  },
  {
   "cell_type": "code",
   "execution_count": 150,
   "id": "2cf44006",
   "metadata": {
    "scrolled": true
   },
   "outputs": [],
   "source": [
    "model.save('D:/Josh/Fall 2021/ML-LWA/check1d3.mph')"
   ]
  },
  {
   "cell_type": "code",
   "execution_count": 6,
   "id": "549bcbff",
   "metadata": {},
   "outputs": [],
   "source": [
    "with open('1d/peaks_to_slot/constant_power/results/test_data.pkl', 'rb') as pkl_file:\n",
    "    slots, true, preds = pickle.load(pkl_file)"
   ]
  },
  {
   "cell_type": "code",
   "execution_count": 149,
   "id": "47ac5e2a",
   "metadata": {},
   "outputs": [
    {
     "data": {
      "application/vnd.jupyter.widget-view+json": {
       "model_id": "41179489da424989a59570f56ba66e05",
       "version_major": 2,
       "version_minor": 0
      },
      "text/plain": [
       "  0%|          | 0/500 [00:00<?, ?it/s]"
      ]
     },
     "metadata": {},
     "output_type": "display_data"
    },
    {
     "name": "stdout",
     "output_type": "stream",
     "text": [
      "21680.542711496353 seconds\n"
     ]
    }
   ],
   "source": [
    "img_list = []\n",
    "\n",
    "save_str = 'C:/Users/THzAbacus/Documents/Josh/LeakyWaveML/comsol_results/validation'\n",
    "\n",
    "start_client(path)\n",
    "start_time = time.time()\n",
    "for i in tqdm(np.arange(500)):\n",
    "    \n",
    "    assump = list(np.where(np.flip(preds[i]))[0] + 15)\n",
    "\n",
    "#     naive = list(np.where(np.flip(tf.round(prediction[i])))[0] + 15)\n",
    "    \n",
    "    goi = simulate(assump)\n",
    "    array = generate_image(goi)\n",
    "    img_list.append(array)\n",
    "    \n",
    "#     goi = simulate(naive)\n",
    "#     array = generate_image(goi)\n",
    "#     img_list.append(array)\n",
    "\n",
    "print(time.time() - start_time, 'seconds')\n",
    "\n",
    "with open(save_str + '.pkl', 'wb') as file:\n",
    "    pickle.dump(img_list, file)"
   ]
  },
  {
   "cell_type": "code",
   "execution_count": 78,
   "id": "db278da5",
   "metadata": {},
   "outputs": [
    {
     "data": {
      "text/plain": [
       "<matplotlib.image.AxesImage at 0x170e9169820>"
      ]
     },
     "execution_count": 78,
     "metadata": {},
     "output_type": "execute_result"
    },
    {
     "data": {
      "image/png": "[encoded data removed]",
      "text/plain": [
       "<Figure size 432x288 with 1 Axes>"
      ]
     },
     "metadata": {
      "needs_background": "light"
     },
     "output_type": "display_data"
    }
   ],
   "source": [
    "plt.imshow(tf.expand_dims(true[1],1),cmap='YlGnBu')"
   ]
  },
  {
   "cell_type": "code",
   "execution_count": 99,
   "id": "99286d78",
   "metadata": {},
   "outputs": [
    {
     "data": {
      "text/plain": [
       "<matplotlib.colorbar.Colorbar at 0x170ed48ebe0>"
      ]
     },
     "execution_count": 99,
     "metadata": {},
     "output_type": "execute_result"
    },
    {
     "data": {
      "image/png": "[encoded data removed]",
      "text/plain": [
       "<Figure size 432x288 with 2 Axes>"
      ]
     },
     "metadata": {
      "needs_background": "light"
     },
     "output_type": "display_data"
    }
   ],
   "source": [
    "plt.imshow(tf.expand_dims(np.flip(preds[0]),1),cmap='YlGnBu')\n",
    "plt.colorbar()"
   ]
  },
  {
   "cell_type": "code",
   "execution_count": 93,
   "id": "8435c966",
   "metadata": {},
   "outputs": [
    {
     "data": {
      "text/plain": [
       "<tf.Tensor: shape=(36,), dtype=float32, numpy=\n",
       "array([0.03688645, 0.48557484, 0.0459322 , 0.16201666, 0.13684636,\n",
       "       0.19239563, 0.17348692, 0.1747298 , 0.6749022 , 0.33054742,\n",
       "       0.6746335 , 0.12096399, 0.33023915, 0.17063478, 0.38309553,\n",
       "       0.41877714, 0.5590439 , 0.67324775, 0.55961555, 0.4750243 ,\n",
       "       0.620966  , 0.60154927, 0.69166434, 0.84315825, 0.7053809 ,\n",
       "       0.766496  , 0.77981323, 0.82984865, 0.71955484, 0.8036551 ,\n",
       "       0.6149739 , 0.54719955, 0.693593  , 0.7148951 , 0.7227928 ,\n",
       "       0.52213657], dtype=float32)>"
      ]
     },
     "execution_count": 93,
     "metadata": {},
     "output_type": "execute_result"
    }
   ],
   "source": [
    "preds[0]"
   ]
  },
  {
   "cell_type": "code",
   "execution_count": 98,
   "id": "48f9c90c",
   "metadata": {},
   "outputs": [
    {
     "name": "stdout",
     "output_type": "stream",
     "text": [
      "[[39, 48, 50], [37, 43, 44, 45, 46, 47], [38, 41], [31, 35, 36, 49], [15, 19, 20, 29, 30, 32, 34], [16, 17, 18, 22, 26, 28, 33, 40, 42], [21, 23, 24, 25, 27], []]\n"
     ]
    }
   ],
   "source": [
    "# start_client(path)\n",
    "simulate(np.flip(preds[0]))\n",
    "# save_model('D:/Josh/Fall 2021/ML-LWA/partialslotsmodel_test2.mph')"
   ]
  },
  {
   "cell_type": "code",
   "execution_count": null,
   "id": "7ab0bcf0",
   "metadata": {},
   "outputs": [],
   "source": []
  }
 ],
 "metadata": {
  "kernelspec": {
   "display_name": "Python 3 (ipykernel)",
   "language": "python",
   "name": "python3"
  },
  "language_info": {
   "codemirror_mode": {
    "name": "ipython",
    "version": 3
   },
   "file_extension": ".py",
   "mimetype": "text/x-python",
   "name": "python",
   "nbconvert_exporter": "python",
   "pygments_lexer": "ipython3",
   "version": "3.9.7"
  }
 },
 "nbformat": 4,
 "nbformat_minor": 5
}
