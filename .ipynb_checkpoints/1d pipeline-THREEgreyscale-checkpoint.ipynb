{
 "cells": [
  {
   "cell_type": "code",
   "execution_count": 1,
   "id": "ac809e3b",
   "metadata": {},
   "outputs": [],
   "source": [
    "import random\n",
    "import mph\n",
    "import numpy as np\n",
    "import matplotlib.pyplot as plt\n",
    "import os    \n",
    "import time\n",
    "from tqdm.notebook import tqdm\n",
    "import pickle\n",
    "os.environ['KMP_DUPLICATE_LIB_OK']='True'\n",
    "import tensorflow as tf\n",
    "\n",
    "path = 'D:/Josh/Fall 2021/ML-LWA/partialslotsmodel_transuse.mph'\n",
    "\n",
    "scattering = [1,2,5,6,7,51,53,56,57]"
   ]
  },
  {
   "cell_type": "code",
   "execution_count": 2,
   "id": "9981647c",
   "metadata": {},
   "outputs": [],
   "source": [
    "def start_client(path):\n",
    "    global model\n",
    "    global pymodel\n",
    "    global client\n",
    "    client = mph.start(version = '5.3a')\n",
    "    pymodel = client.load(path)\n",
    "    model = pymodel.java\n",
    "    \n",
    "def save_model(path):\n",
    "    model.save(path)\n",
    "    \n",
    "def generate_image(random_pattern):\n",
    "    return np.flip(np.array(random_pattern) / 4)\n",
    "    \n",
    "def simulate_random():\n",
    "    global start_count\n",
    "    \n",
    "    vals = np.random.randint(5, size = 36)\n",
    "\n",
    "    while (sum(vals) / len(vals) < 1.9) or (sum(vals) / len(vals) > 2.1):\n",
    "        vals = np.random.randint(5, size = 36)\n",
    "        \n",
    "    vals = list(vals)\n",
    "\n",
    "    bucket_list = [0, 1, 2, 3, 4]\n",
    "    \n",
    "    buckets = []\n",
    "    \n",
    "    for out_index,bucket in enumerate(bucket_list):\n",
    "        out_list = [index + 18 for index,slot in enumerate(vals) if slot == bucket]\n",
    "        buckets.append([x-1 if x == 18 else x for x in out_list])\n",
    "        \n",
    "#     return buckets\n",
    "\n",
    "    for i in np.arange(0,5):\n",
    "        model.physics(\"emw\").feature(\"trans\" + str(i + 1)).selection().set(buckets[i]);\n",
    "\n",
    "    model.geom(\"geom1\").runAll();\n",
    "    model.mesh().run();\n",
    "    model.sol(\"sol1\").runAll();\n",
    "    \n",
    "    model.result(\"pg4\").set(\"data\", 'dset1')\n",
    "    model.result(\"pg4\").feature(\"ff1\").run()\n",
    "    model.result().export(\"plot1\").set(\"filename\", save_str + '.csv')\n",
    "    model.result().export(\"plot1\").set(\"plotgroup\", \"pg4\")\n",
    "    model.result().export(\"plot1\").set(\"plot\", \"ff1\")\n",
    "    \n",
    "    model.result().export(\"plot1\").run()\n",
    "    \n",
    "    return vals\n",
    "\n",
    "def simulate(vals):\n",
    "\n",
    "    bucket_list = [0, 1, 2, 3, 4]\n",
    "    \n",
    "    buckets = []\n",
    "    \n",
    "    for out_index,bucket in enumerate(bucket_list):\n",
    "        out_list = [index + 18 for index,slot in enumerate(vals) if slot == bucket]\n",
    "        buckets.append([x-1 if x == 18 else x for x in out_list])\n",
    "\n",
    "    for i in np.arange(0,5):\n",
    "        model.physics(\"emw\").feature(\"trans\" + str(i + 1)).selection().set(buckets[i]);\n",
    "\n",
    "    model.geom(\"geom1\").runAll();\n",
    "    model.mesh().run();\n",
    "    model.sol(\"sol1\").runAll();\n",
    "    \n",
    "    model.result(\"pg4\").set(\"data\", 'dset1')\n",
    "    model.result(\"pg4\").feature(\"ff1\").run()\n",
    "    model.result().export(\"plot1\").set(\"filename\", save_str + '.csv')\n",
    "    model.result().export(\"plot1\").set(\"plotgroup\", \"pg4\")\n",
    "    model.result().export(\"plot1\").set(\"plot\", \"ff1\")\n",
    "    \n",
    "    model.result().export(\"plot1\").run()\n",
    "    \n",
    "    return vals\n"
   ]
  },
  {
   "cell_type": "code",
   "execution_count": null,
   "id": "16cdfa7f",
   "metadata": {},
   "outputs": [],
   "source": [
    "plt.imshow(tf.expand_dims(simulate_random(),1))"
   ]
  },
  {
   "cell_type": "code",
   "execution_count": null,
   "id": "16a95285",
   "metadata": {},
   "outputs": [],
   "source": [
    "out = simulate_random()\n",
    "img = generate_image(out)\n",
    "plt.imshow(tf.expand_dims(img,1))\n",
    "plt.colorbar()"
   ]
  },
  {
   "cell_type": "code",
   "execution_count": null,
   "id": "c7506231",
   "metadata": {},
   "outputs": [],
   "source": [
    "first = []\n",
    "second = []\n",
    "third = []\n",
    "fourth =[]\n",
    "fifth = []\n",
    "for i in np.arange(20000):\n",
    "    one,two,three,four,five = simulate_random()\n",
    "    first.append(len(one))\n",
    "    fifth.append(len(five))\n",
    "    second.append(len(two))\n",
    "    third.append(len(three))\n",
    "    fourth.append(len(four))"
   ]
  },
  {
   "cell_type": "code",
   "execution_count": null,
   "id": "0175c92d",
   "metadata": {},
   "outputs": [],
   "source": [
    "sum(first) / len(first)"
   ]
  },
  {
   "cell_type": "code",
   "execution_count": null,
   "id": "f8fd2f25",
   "metadata": {},
   "outputs": [],
   "source": [
    "sum(fifth) / len(fifth)"
   ]
  },
  {
   "cell_type": "code",
   "execution_count": null,
   "id": "f7b7689d",
   "metadata": {},
   "outputs": [],
   "source": [
    "vals = np.random.uniform(0,1.12,32)\n",
    "    \n",
    "while (vals.sum() < 15.5) or (vals.sum() > 16.5):\n",
    "    print('going')\n",
    "    vals = np.random.uniform(0,1,32)"
   ]
  },
  {
   "cell_type": "code",
   "execution_count": null,
   "id": "4abd880c",
   "metadata": {},
   "outputs": [],
   "source": [
    "vals.sum()"
   ]
  },
  {
   "cell_type": "code",
   "execution_count": null,
   "id": "9b9b8e3e",
   "metadata": {},
   "outputs": [],
   "source": [
    "plt.imshow(tf.expand_dims(img_list[0],1),cmap='YlGnBu')"
   ]
  },
  {
   "cell_type": "markdown",
   "id": "268e1af6",
   "metadata": {},
   "source": [
    "<h1>Please don't close out of this, very long simulation in progress! Using the computer is fine just don't close this window, thanks!</h1>\n",
    "\n",
    "<h4>Light simulations should work fine but if you need to do anything heavy, click Kernel in the toolbar above and just hit shutdown, just shoot me (Josh) an email if you need to do that.</h4>"
   ]
  },
  {
   "cell_type": "code",
   "execution_count": null,
   "id": "1959e18d",
   "metadata": {
    "scrolled": true
   },
   "outputs": [],
   "source": [
    "for instance in tqdm(np.arange(10)):\n",
    "    img_list = []\n",
    "\n",
    "    save_str = 'C:/Users/THzAbacus/Documents/Josh/LeakyWaveML/comsol_results/1dgrey/' + str(int(time.time()))\n",
    "\n",
    "    start_client(path)\n",
    "    start_time = time.time()\n",
    "    for i in tqdm(np.arange(500)):\n",
    "        goi = simulate_random()\n",
    "        img = generate_image(goi)\n",
    "        img_list.append(img)\n",
    "\n",
    "    print(time.time() - start_time, 'seconds')\n",
    "\n",
    "    with open(save_str + '.pkl', 'wb') as file:\n",
    "        pickle.dump(img_list, file)"
   ]
  },
  {
   "cell_type": "code",
   "execution_count": null,
   "id": "2cf44006",
   "metadata": {
    "scrolled": true
   },
   "outputs": [],
   "source": [
    "model.save('D:/Josh/Fall 2021/ML-LWA/xmlerror.mph')"
   ]
  },
  {
   "cell_type": "code",
   "execution_count": null,
   "id": "737f37e9",
   "metadata": {},
   "outputs": [],
   "source": [
    "len(img_list)"
   ]
  },
  {
   "cell_type": "code",
   "execution_count": null,
   "id": "18ec5e60",
   "metadata": {},
   "outputs": [],
   "source": [
    "plt.imshow(tf.expand_dims(img_list[0],1))\n",
    "plt.colorbar()"
   ]
  },
  {
   "cell_type": "code",
   "execution_count": 4,
   "id": "549bcbff",
   "metadata": {},
   "outputs": [],
   "source": [
    "with open('1d/peaks_to_slot/grey/results/test_data_simp.pkl', 'rb') as pkl_file:\n",
    "    slots, true, preds, _ = pickle.load(pkl_file)\n",
    "    \n",
    "preds = np.where((preds > 0) & (preds <= 0.125), 0, preds)\n",
    "preds = np.where((preds > 0.125) & (preds <= 0.375), 0.25, preds)\n",
    "preds = np.where((preds > 0.375) & (preds <= 0.625), 0.50, preds)\n",
    "preds = np.where((preds > 0.625) & (preds <= 0.875), 0.75, preds)\n",
    "preds = np.where((preds > 0.875), 1.00, preds)"
   ]
  },
  {
   "cell_type": "code",
   "execution_count": 6,
   "id": "47ac5e2a",
   "metadata": {},
   "outputs": [
    {
     "data": {
      "application/vnd.jupyter.widget-view+json": {
       "model_id": "b5977e39be664bfba049fcf83cd6a1e2",
       "version_major": 2,
       "version_minor": 0
      },
      "text/plain": [
       "  0%|          | 0/500 [00:00<?, ?it/s]"
      ]
     },
     "metadata": {},
     "output_type": "display_data"
    },
    {
     "name": "stdout",
     "output_type": "stream",
     "text": [
      "23550.46653151512 seconds\n"
     ]
    }
   ],
   "source": [
    "# img_list = []\n",
    "\n",
    "save_str = 'C:/Users/THzAbacus/Documents/Josh/LeakyWaveML/1d/peaks_to_slot/grey/results/simplelosstest'\n",
    "\n",
    "start_client(path)\n",
    "start_time = time.time()\n",
    "for i in tqdm(np.arange(500)):\n",
    "      \n",
    "    goi = simulate([int(x) for x in np.flip(preds[i]) * 4])\n",
    "\n",
    "\n",
    "print(time.time() - start_time, 'seconds')\n",
    "\n",
    "# with open(save_str + '.pkl', 'wb') as file:\n",
    "#     pickle.dump(img_list, file)"
   ]
  },
  {
   "cell_type": "code",
   "execution_count": 8,
   "id": "99f5f378",
   "metadata": {},
   "outputs": [],
   "source": [
    "with open('1d/peaks_to_slot/grey/results/test_data_comp.pkl', 'rb') as pkl_file:\n",
    "    slots, true, preds,_ = pickle.load(pkl_file)\n",
    "      \n",
    "preds = np.where((preds > 0) & (preds <= 0.125), 0, preds)\n",
    "preds = np.where((preds > 0.125) & (preds <= 0.375), 0.25, preds)\n",
    "preds = np.where((preds > 0.375) & (preds <= 0.625), 0.50, preds)\n",
    "preds = np.where((preds > 0.625) & (preds <= 0.875), 0.75, preds)\n",
    "preds = np.where((preds > 0.875), 1.00, preds)"
   ]
  },
  {
   "cell_type": "code",
   "execution_count": 9,
   "id": "61a018c2",
   "metadata": {},
   "outputs": [
    {
     "data": {
      "application/vnd.jupyter.widget-view+json": {
       "model_id": "05928337a38346aea384824eb5acb5c8",
       "version_major": 2,
       "version_minor": 0
      },
      "text/plain": [
       "  0%|          | 0/500 [00:00<?, ?it/s]"
      ]
     },
     "metadata": {},
     "output_type": "display_data"
    },
    {
     "name": "stdout",
     "output_type": "stream",
     "text": [
      "23648.93062019348 seconds\n"
     ]
    }
   ],
   "source": [
    "# img_list = []\n",
    "\n",
    "# save_str = # img_list = []\n",
    "\n",
    "save_str = 'C:/Users/THzAbacus/Documents/Josh/LeakyWaveML/1d/peaks_to_slot/grey/results/complosstest'\n",
    "\n",
    "start_client(path)\n",
    "start_time = time.time()\n",
    "for i in tqdm(np.arange(500)):\n",
    "      \n",
    "    goi = simulate([int(x) for x in np.flip(preds[i]) * 4])\n",
    "\n",
    "\n",
    "print(time.time() - start_time, 'seconds')"
   ]
  },
  {
   "cell_type": "code",
   "execution_count": null,
   "id": "e6cd7b28",
   "metadata": {},
   "outputs": [],
   "source": [
    "save_model('D:/Josh/Fall 2021/ML-LWA/partialslotsmodel_forusee2.mph')"
   ]
  },
  {
   "cell_type": "code",
   "execution_count": null,
   "id": "c976affb",
   "metadata": {},
   "outputs": [],
   "source": [
    "plt.imshow(tf.expand_dims(true[1],1),cmap='YlGnBu')"
   ]
  },
  {
   "cell_type": "code",
   "execution_count": null,
   "id": "2034541c",
   "metadata": {},
   "outputs": [],
   "source": [
    "plt.imshow(tf.expand_dims(preds[0],1),cmap='YlGnBu')\n",
    "plt.colorbar()"
   ]
  },
  {
   "cell_type": "code",
   "execution_count": null,
   "id": "8d15decd",
   "metadata": {},
   "outputs": [],
   "source": [
    "np.flip(preds[0])[35]"
   ]
  },
  {
   "cell_type": "code",
   "execution_count": null,
   "id": "b139b9a8",
   "metadata": {},
   "outputs": [],
   "source": [
    "# start_client(path)\n",
    "simulate(np.flip(preds[0]))\n",
    "# save_model('D:/Josh/Fall 2021/ML-LWA/partialslotsmodel_test2.mph')"
   ]
  },
  {
   "cell_type": "code",
   "execution_count": null,
   "id": "d3cdd97e",
   "metadata": {},
   "outputs": [],
   "source": [
    "start_client(path)\n",
    "simulate(np.flip(preds[0]))\n",
    "# save_model('D:/Josh/Fall 2021/ML-LWA/partialslotsmodel_test2.mph')"
   ]
  },
  {
   "cell_type": "code",
   "execution_count": null,
   "id": "846d1893",
   "metadata": {},
   "outputs": [],
   "source": [
    "save_model('D:/Josh/Fall 2021/ML-LWA/partialslotsmodel_test4.mph')"
   ]
  },
  {
   "cell_type": "code",
   "execution_count": null,
   "id": "25c5cdc5",
   "metadata": {},
   "outputs": [],
   "source": [
    "plt.imshow(tf.expand_dims(preds[0],1),cmap='YlGnBu')\n",
    "plt.colorbar()"
   ]
  },
  {
   "cell_type": "code",
   "execution_count": null,
   "id": "2e34de9a",
   "metadata": {},
   "outputs": [],
   "source": []
  }
 ],
 "metadata": {
  "kernelspec": {
   "display_name": "Python 3 (ipykernel)",
   "language": "python",
   "name": "python3"
  },
  "language_info": {
   "codemirror_mode": {
    "name": "ipython",
    "version": 3
   },
   "file_extension": ".py",
   "mimetype": "text/x-python",
   "name": "python",
   "nbconvert_exporter": "python",
   "pygments_lexer": "ipython3",
   "version": "3.9.7"
  }
 },
 "nbformat": 4,
 "nbformat_minor": 5
}
