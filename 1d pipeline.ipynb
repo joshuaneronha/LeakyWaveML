{
 "cells": [
  {
   "cell_type": "code",
   "execution_count": 3,
   "id": "ac809e3b",
   "metadata": {},
   "outputs": [],
   "source": [
    "import random\n",
    "import mph\n",
    "import numpy as np\n",
    "import matplotlib.pyplot as plt\n",
    "import os    \n",
    "import time\n",
    "from tqdm.notebook import tqdm\n",
    "import pickle\n",
    "os.environ['KMP_DUPLICATE_LIB_OK']='True'\n",
    "import tensorflow as tf\n",
    "\n",
    "path = 'D:/Josh/Fall 2021/ML-LWA/1dsim.mph'\n",
    "\n",
    "scattering = [1,2,5,6,7,51,53,56,57]"
   ]
  },
  {
   "cell_type": "code",
   "execution_count": 4,
   "id": "9981647c",
   "metadata": {},
   "outputs": [],
   "source": [
    "def start_client(path):\n",
    "    global model\n",
    "    global pymodel\n",
    "    global client\n",
    "    client = mph.start(version = '5.3a')\n",
    "    pymodel = client.load(path)\n",
    "    model = pymodel.java\n",
    "    \n",
    "def save_model():\n",
    "    model.save(path)\n",
    "    \n",
    "def generate_image(random_pattern):\n",
    "    adjusted = [x - 15 for x in random_pattern]\n",
    "    out = np.flip(np.array([1 if x in adjusted else 0 for x in np.arange(36)]))\n",
    "    return out\n",
    "    \n",
    "def simulate_random():\n",
    "    global start_count\n",
    "#     grids_of_interest = [random.randint(15,50) for i in range(0,random.randint(1,36))]\n",
    "#     grids_of_interest = [random.randint(15,50) for i in range(0,18)]\n",
    "    grids_of_interest = random.sample(range(15,51),18)\n",
    "    this_scattering = scattering + grids_of_interest\n",
    "    \n",
    "    model.physics(\"emw\").feature(\"sctr1\").selection().set(this_scattering);\n",
    "    model.physics(\"emw\").feature(\"ffd1\").feature(\"ffc1\").selection().set(grids_of_interest);\n",
    "\n",
    "    model.geom(\"geom1\").runAll();\n",
    "    model.mesh().run();\n",
    "    model.sol(\"sol1\").runAll();\n",
    "    \n",
    "    model.result(\"pg4\").set(\"data\", 'dset1')\n",
    "    model.result(\"pg4\").feature(\"ff1\").run()\n",
    "    model.result().export(\"plot1\").set(\"filename\", save_str + '.csv')\n",
    "    model.result().export(\"plot1\").set(\"plotgroup\", \"pg4\")\n",
    "    model.result().export(\"plot1\").set(\"plot\", \"ff1\")\n",
    "    \n",
    "    model.result().export(\"plot1\").run()\n",
    "\n",
    "    return grids_of_interest\n",
    "\n",
    "# def simulate(vals):\n",
    "#     global start_count\n",
    "#     grids_of_interest = vals\n",
    "#     this_scattering = scattering + grids_of_interest\n",
    "#     print(this_scattering)\n",
    "    \n",
    "#     model.physics(\"emw\").feature(\"sctr1\").selection().set(this_scattering);\n",
    "#     model.physics(\"emw\").feature(\"ffd1\").feature(\"ffc1\").selection().set(grids_of_interest);\n",
    "\n",
    "#     model.geom(\"geom1\").runAll();\n",
    "#     model.mesh().run();\n",
    "#     model.sol(\"sol1\").runAll();\n",
    "    \n",
    "#     model.result(\"pg4\").set(\"data\", 'dset1')\n",
    "#     model.result(\"pg4\").feature(\"ff1\").run()\n",
    "#     model.result().export(\"plot1\").set(\"filename\", save_str + '.csv')\n",
    "#     model.result().export(\"plot1\").set(\"plotgroup\", \"pg4\")\n",
    "#     model.result().export(\"plot1\").set(\"plot\", \"ff1\")\n",
    "    \n",
    "#     model.result().export(\"plot1\").run()\n",
    "\n",
    "#     return grids_of_interest"
   ]
  },
  {
   "cell_type": "markdown",
   "id": "268e1af6",
   "metadata": {},
   "source": [
    "<h1>Please don't close out of this, very long simulation in progress! Using the computer is fine just don't close this window, thanks!</h1>\n",
    "\n",
    "<h4>Light simulations should work fine but if you need to do anything heavy, click Kernel in the toolbar above and just hit shutdown, just shoot me (Josh) an email if you need to do that.</h4>"
   ]
  },
  {
   "cell_type": "code",
   "execution_count": 7,
   "id": "1959e18d",
   "metadata": {},
   "outputs": [
    {
     "data": {
      "application/vnd.jupyter.widget-view+json": {
       "model_id": "f94b476a2d5b49529fcbce2c77ad91a0",
       "version_major": 2,
       "version_minor": 0
      },
      "text/plain": [
       "  0%|          | 0/10 [00:00<?, ?it/s]"
      ]
     },
     "metadata": {},
     "output_type": "display_data"
    },
    {
     "data": {
      "application/vnd.jupyter.widget-view+json": {
       "model_id": "0df717975fdb4b6a802f0e1e5c7a62e5",
       "version_major": 2,
       "version_minor": 0
      },
      "text/plain": [
       "  0%|          | 0/500 [00:00<?, ?it/s]"
      ]
     },
     "metadata": {},
     "output_type": "display_data"
    },
    {
     "name": "stdout",
     "output_type": "stream",
     "text": [
      "19595.60267353058 seconds\n"
     ]
    },
    {
     "data": {
      "application/vnd.jupyter.widget-view+json": {
       "model_id": "4ac911b24b8a4f55aadc38c10ca948b2",
       "version_major": 2,
       "version_minor": 0
      },
      "text/plain": [
       "  0%|          | 0/500 [00:00<?, ?it/s]"
      ]
     },
     "metadata": {},
     "output_type": "display_data"
    },
    {
     "name": "stdout",
     "output_type": "stream",
     "text": [
      "19666.000439167023 seconds\n"
     ]
    },
    {
     "data": {
      "application/vnd.jupyter.widget-view+json": {
       "model_id": "940a52d5d3d240b98e202b01430fe977",
       "version_major": 2,
       "version_minor": 0
      },
      "text/plain": [
       "  0%|          | 0/500 [00:00<?, ?it/s]"
      ]
     },
     "metadata": {},
     "output_type": "display_data"
    },
    {
     "name": "stdout",
     "output_type": "stream",
     "text": [
      "19799.321996688843 seconds\n"
     ]
    },
    {
     "data": {
      "application/vnd.jupyter.widget-view+json": {
       "model_id": "abaded9c1ece483785913435a66863cc",
       "version_major": 2,
       "version_minor": 0
      },
      "text/plain": [
       "  0%|          | 0/500 [00:00<?, ?it/s]"
      ]
     },
     "metadata": {},
     "output_type": "display_data"
    },
    {
     "name": "stdout",
     "output_type": "stream",
     "text": [
      "19905.43167614937 seconds\n"
     ]
    },
    {
     "data": {
      "application/vnd.jupyter.widget-view+json": {
       "model_id": "f592246acce344b4add6f21ffa62e582",
       "version_major": 2,
       "version_minor": 0
      },
      "text/plain": [
       "  0%|          | 0/500 [00:00<?, ?it/s]"
      ]
     },
     "metadata": {},
     "output_type": "display_data"
    },
    {
     "name": "stdout",
     "output_type": "stream",
     "text": [
      "19986.649898290634 seconds\n"
     ]
    },
    {
     "data": {
      "application/vnd.jupyter.widget-view+json": {
       "model_id": "d2170dd82ce247dfbc29175f4e671a96",
       "version_major": 2,
       "version_minor": 0
      },
      "text/plain": [
       "  0%|          | 0/500 [00:00<?, ?it/s]"
      ]
     },
     "metadata": {},
     "output_type": "display_data"
    },
    {
     "name": "stdout",
     "output_type": "stream",
     "text": [
      "20188.815554380417 seconds\n"
     ]
    },
    {
     "data": {
      "application/vnd.jupyter.widget-view+json": {
       "model_id": "6cf465d9569a423aa6e2c492f462845f",
       "version_major": 2,
       "version_minor": 0
      },
      "text/plain": [
       "  0%|          | 0/500 [00:00<?, ?it/s]"
      ]
     },
     "metadata": {},
     "output_type": "display_data"
    },
    {
     "name": "stdout",
     "output_type": "stream",
     "text": [
      "20296.829936265945 seconds\n"
     ]
    },
    {
     "data": {
      "application/vnd.jupyter.widget-view+json": {
       "model_id": "affdc55f28384ff8b9c5d01fe0db31a5",
       "version_major": 2,
       "version_minor": 0
      },
      "text/plain": [
       "  0%|          | 0/500 [00:00<?, ?it/s]"
      ]
     },
     "metadata": {},
     "output_type": "display_data"
    },
    {
     "name": "stdout",
     "output_type": "stream",
     "text": [
      "20434.855102539062 seconds\n"
     ]
    },
    {
     "data": {
      "application/vnd.jupyter.widget-view+json": {
       "model_id": "b876208bd1bb47e6853b28edb813b801",
       "version_major": 2,
       "version_minor": 0
      },
      "text/plain": [
       "  0%|          | 0/500 [00:00<?, ?it/s]"
      ]
     },
     "metadata": {},
     "output_type": "display_data"
    },
    {
     "name": "stdout",
     "output_type": "stream",
     "text": [
      "20611.35325694084 seconds\n"
     ]
    },
    {
     "data": {
      "application/vnd.jupyter.widget-view+json": {
       "model_id": "f206c8e47710467281c9ab9e423ee225",
       "version_major": 2,
       "version_minor": 0
      },
      "text/plain": [
       "  0%|          | 0/500 [00:00<?, ?it/s]"
      ]
     },
     "metadata": {},
     "output_type": "display_data"
    },
    {
     "name": "stdout",
     "output_type": "stream",
     "text": [
      "20904.811609506607 seconds\n"
     ]
    }
   ],
   "source": [
    "for instance in tqdm(np.arange(10)):\n",
    "    img_list = []\n",
    "\n",
    "    save_str = 'C:/Users/THzAbacus/Documents/Josh/LeakyWaveML/comsol_results/1dconstantslots/' + str(int(time.time()))\n",
    "\n",
    "    start_client(path)\n",
    "    start_time = time.time()\n",
    "    for i in tqdm(np.arange(500)):\n",
    "        goi = simulate_random()\n",
    "        array = generate_image(goi)\n",
    "        img_list.append(array)\n",
    "\n",
    "    print(time.time() - start_time, 'seconds')\n",
    "\n",
    "    with open(save_str + '.pkl', 'wb') as file:\n",
    "        pickle.dump(img_list, file)"
   ]
  },
  {
   "cell_type": "code",
   "execution_count": null,
   "id": "2cf44006",
   "metadata": {
    "scrolled": true
   },
   "outputs": [],
   "source": [
    "model.save('D:/Josh/Fall 2021/ML-LWA/check1d2.mph')"
   ]
  },
  {
   "cell_type": "code",
   "execution_count": null,
   "id": "505978bd",
   "metadata": {},
   "outputs": [],
   "source": [
    "plt.imshow(array.reshape([36,1,1]))"
   ]
  },
  {
   "cell_type": "code",
   "execution_count": 7,
   "id": "549bcbff",
   "metadata": {},
   "outputs": [],
   "source": [
    "with open('1d/peaks_to_slot/results/generated_slots.pkl', 'rb') as pkl_file:\n",
    "    data = pickle.load(pkl_file)"
   ]
  },
  {
   "cell_type": "code",
   "execution_count": 16,
   "id": "95810d75",
   "metadata": {},
   "outputs": [],
   "source": [
    "true = tf.squeeze(tf.stack([x[1] for x in data]))\n",
    "prediction = tf.squeeze(tf.stack([x[2] for x in data]))"
   ]
  },
  {
   "cell_type": "code",
   "execution_count": 17,
   "id": "1d89c6e4",
   "metadata": {},
   "outputs": [],
   "source": [
    "total_slots = 36 - tf.reduce_sum(true,axis=1)\n",
    "\n",
    "prediction_sorted = tf.argsort(prediction, axis=1)\n",
    "\n",
    "gathered = tf.gather(prediction_sorted, total_slots,axis=1,batch_dims=1)\n",
    "        # print(gathered.shape)\n",
    "        # print(gathered)\n",
    "\n",
    "minny = tf.repeat(tf.expand_dims(tf.gather(prediction, gathered, axis=1,batch_dims=1),axis=1),axis=1,repeats = true.shape[1])\n",
    "        # print(prediction.shape)\n",
    "        # print(minny.shape)\n",
    "\n",
    "rounded = tf.greater_equal(prediction,minny)"
   ]
  },
  {
   "cell_type": "code",
   "execution_count": 23,
   "id": "ccf994a7",
   "metadata": {},
   "outputs": [
    {
     "data": {
      "text/plain": [
       "TensorShape([10, 36])"
      ]
     },
     "execution_count": 23,
     "metadata": {},
     "output_type": "execute_result"
    }
   ],
   "source": [
    "rounded.shape\n",
    "prediction.shape"
   ]
  },
  {
   "cell_type": "code",
   "execution_count": 21,
   "id": "04240fe1",
   "metadata": {},
   "outputs": [
    {
     "data": {
      "text/plain": [
       "<matplotlib.image.AxesImage at 0x202d2f4d6a0>"
      ]
     },
     "execution_count": 21,
     "metadata": {},
     "output_type": "execute_result"
    },
    {
     "data": {
      "image/png": "[encoded data removed]",
      "text/plain": [
       "<Figure size 432x288 with 1 Axes>"
      ]
     },
     "metadata": {
      "needs_background": "light"
     },
     "output_type": "display_data"
    }
   ],
   "source": [
    "plt.imshow(tf.expand_dims(rounded[0],1),cmap='YlGnBu')"
   ]
  },
  {
   "cell_type": "code",
   "execution_count": 46,
   "id": "2f7c05f4",
   "metadata": {},
   "outputs": [
    {
     "data": {
      "text/plain": [
       "array([17, 18, 19, 20, 21, 22, 41, 42, 50], dtype=int64)"
      ]
     },
     "execution_count": 46,
     "metadata": {},
     "output_type": "execute_result"
    }
   ],
   "source": [
    "np.where(np.flip(rounded[0]))[0] + 15"
   ]
  },
  {
   "cell_type": "code",
   "execution_count": 48,
   "id": "74d74bd4",
   "metadata": {},
   "outputs": [
    {
     "data": {
      "text/plain": [
       "<tf.Tensor: shape=(36,), dtype=float32, numpy=\n",
       "array([0., 0., 0., 0., 0., 0., 0., 0., 0., 0., 0., 0., 0., 0., 0., 0., 0.,\n",
       "       0., 0., 0., 0., 0., 0., 0., 0., 0., 0., 0., 1., 1., 0., 0., 0., 0.,\n",
       "       0., 0.], dtype=float32)>"
      ]
     },
     "execution_count": 48,
     "metadata": {},
     "output_type": "execute_result"
    }
   ],
   "source": [
    "tf.round(prediction[0])"
   ]
  },
  {
   "cell_type": "code",
   "execution_count": 45,
   "id": "42024ba6",
   "metadata": {},
   "outputs": [
    {
     "data": {
      "text/plain": [
       "array([21, 22], dtype=int64)"
      ]
     },
     "execution_count": 45,
     "metadata": {},
     "output_type": "execute_result"
    }
   ],
   "source": [
    "np.where(np.flip(tf.round(prediction[0])))[0] + 15"
   ]
  },
  {
   "cell_type": "code",
   "execution_count": 49,
   "id": "8b043a97",
   "metadata": {},
   "outputs": [
    {
     "data": {
      "text/plain": [
       "<matplotlib.image.AxesImage at 0x202d2e14ca0>"
      ]
     },
     "execution_count": 49,
     "metadata": {},
     "output_type": "execute_result"
    },
    {
     "data": {
      "image/png": "[encoded data removed]",
      "text/plain": [
       "<Figure size 432x288 with 1 Axes>"
      ]
     },
     "metadata": {
      "needs_background": "light"
     },
     "output_type": "display_data"
    }
   ],
   "source": [
    "plt.imshow(tf.expand_dims(generate_image(np.where(np.flip(tf.round(prediction[0])))[0] + 15),1),cmap='YlGnBu')"
   ]
  },
  {
   "cell_type": "code",
   "execution_count": 39,
   "id": "a5200ecc",
   "metadata": {},
   "outputs": [
    {
     "data": {
      "text/plain": [
       "<matplotlib.image.AxesImage at 0x202d40ccaf0>"
      ]
     },
     "execution_count": 39,
     "metadata": {},
     "output_type": "execute_result"
    },
    {
     "data": {
      "image/png": "[encoded data removed]",
      "text/plain": [
       "<Figure size 432x288 with 1 Axes>"
      ]
     },
     "metadata": {
      "needs_background": "light"
     },
     "output_type": "display_data"
    }
   ],
   "source": [
    "plt.imshow(tf.expand_dims(generate_image(np.where(np.flip(rounded[0]))[0] + 15),1),cmap='YlGnBu')"
   ]
  },
  {
   "cell_type": "code",
   "execution_count": 51,
   "id": "c4335bbf",
   "metadata": {},
   "outputs": [],
   "source": [
    "start_client(path)"
   ]
  },
  {
   "cell_type": "code",
   "execution_count": 57,
   "id": "be794b03",
   "metadata": {},
   "outputs": [
    {
     "data": {
      "application/vnd.jupyter.widget-view+json": {
       "model_id": "04124ad775a24aa3ace269937ac870b7",
       "version_major": 2,
       "version_minor": 0
      },
      "text/plain": [
       "  0%|          | 0/10 [00:00<?, ?it/s]"
      ]
     },
     "metadata": {},
     "output_type": "display_data"
    },
    {
     "name": "stdout",
     "output_type": "stream",
     "text": [
      "[1, 2, 5, 6, 7, 51, 53, 56, 57, 17, 18, 19, 20, 21, 22, 41, 42, 50]\n",
      "[1, 2, 5, 6, 7, 51, 53, 56, 57, 21, 22]\n",
      "[1, 2, 5, 6, 7, 51, 53, 56, 57, 23, 25, 31, 45, 46, 47, 48, 50]\n",
      "[1, 2, 5, 6, 7, 51, 53, 56, 57, 22, 23, 25, 31, 44, 45, 46, 47, 48, 50]\n",
      "[1, 2, 5, 6, 7, 51, 53, 56, 57, 15, 16, 17, 28, 29, 32, 33, 34, 35, 37, 38, 41, 42, 43, 44, 45, 46, 47, 48, 49, 50]\n",
      "[1, 2, 5, 6, 7, 51, 53, 56, 57, 15, 16, 17, 23, 28, 29, 31, 32, 33, 34, 35, 37, 38, 41, 42, 43, 44, 45, 46, 47, 48, 49, 50]\n",
      "[1, 2, 5, 6, 7, 51, 53, 56, 57, 15, 16, 17, 28, 29, 35, 36, 37, 38, 40, 46, 47, 48, 49, 50]\n",
      "[1, 2, 5, 6, 7, 51, 53, 56, 57, 15, 16, 17, 28, 29, 30, 35, 36, 37, 38, 39, 40, 41, 46, 47, 48, 49, 50]\n",
      "[1, 2, 5, 6, 7, 51, 53, 56, 57, 22, 23, 27, 29, 30, 31, 32, 34, 35, 42]\n",
      "[1, 2, 5, 6, 7, 51, 53, 56, 57, 22, 23, 24, 25, 27, 28, 29, 30, 31, 32, 33, 34, 35, 42]\n",
      "[1, 2, 5, 6, 7, 51, 53, 56, 57, 18, 22, 24, 25, 26, 27, 28, 29, 30, 31, 35, 36, 37, 38, 41, 42, 48, 49]\n",
      "[1, 2, 5, 6, 7, 51, 53, 56, 57, 17, 18, 21, 22, 23, 24, 25, 26, 27, 28, 29, 30, 31, 32, 33, 34, 35, 36, 37, 38, 40, 41, 42, 43, 46, 47, 48, 49, 50]\n",
      "[1, 2, 5, 6, 7, 51, 53, 56, 57, 15, 16, 23, 24, 25, 29, 30, 32, 34, 36, 37, 38, 39, 41, 42, 44, 45, 46, 50]\n",
      "[1, 2, 5, 6, 7, 51, 53, 56, 57, 15, 16, 23, 24, 25, 30, 32, 34, 36, 37, 38, 39, 41, 42, 45, 46, 50]\n",
      "[1, 2, 5, 6, 7, 51, 53, 56, 57, 17, 18, 19, 23, 25, 26, 27, 28, 33, 34, 36, 37, 38, 39, 40, 41, 42, 47, 48]\n",
      "[1, 2, 5, 6, 7, 51, 53, 56, 57, 18, 23, 25, 27, 28, 34, 36, 37, 38, 39, 40, 41, 42, 47]\n",
      "[1, 2, 5, 6, 7, 51, 53, 56, 57, 15, 16, 17, 18, 19, 20, 21, 22, 23, 44, 45, 47, 48, 49]\n",
      "[1, 2, 5, 6, 7, 51, 53, 56, 57, 16, 17, 18, 19, 20, 21, 22, 44, 47, 48, 49]\n",
      "[1, 2, 5, 6, 7, 51, 53, 56, 57, 15, 21, 23, 24, 25, 26, 44, 45, 46, 47, 48, 49, 50]\n",
      "[1, 2, 5, 6, 7, 51, 53, 56, 57, 23, 24, 25, 26, 44, 45, 46, 47, 48, 49, 50]\n",
      "868.8669955730438 seconds\n"
     ]
    }
   ],
   "source": [
    "img_list = []\n",
    "\n",
    "save_str = 'C:/Users/THzAbacus/Documents/Josh/LeakyWaveML/comsol_results/1d/' + str(int(time.time()))\n",
    "\n",
    "start_client(path)\n",
    "start_time = time.time()\n",
    "for i in tqdm(np.arange(10)):\n",
    "    \n",
    "    assump = list(np.where(np.flip(rounded[i]))[0] + 15)\n",
    "\n",
    "    naive = list(np.where(np.flip(tf.round(prediction[i])))[0] + 15)\n",
    "    \n",
    "    goi = simulate(assump)\n",
    "    array = generate_image(goi)\n",
    "    img_list.append(array)\n",
    "    \n",
    "    goi = simulate(naive)\n",
    "    array = generate_image(goi)\n",
    "    img_list.append(array)\n",
    "\n",
    "print(time.time() - start_time, 'seconds')\n",
    "\n",
    "with open(save_str + '.pkl', 'wb') as file:\n",
    "    pickle.dump(img_list, file)"
   ]
  },
  {
   "cell_type": "code",
   "execution_count": 60,
   "id": "28602911",
   "metadata": {},
   "outputs": [],
   "source": [
    "test = np.array([1., 0., 1., 0., 1., 1., 0., 1., 0., 1., 0., 1., 0., 0., 1., 0., 0.,\n",
    "       0., 0., 0., 0., 0., 0., 0., 0., 0., 0., 0., 0., 0., 0., 0., 0., 0.,\n",
    "       0., 0.])"
   ]
  },
  {
   "cell_type": "code",
   "execution_count": 63,
   "id": "26e5524a",
   "metadata": {},
   "outputs": [
    {
     "name": "stdout",
     "output_type": "stream",
     "text": [
      "[1, 2, 5, 6, 7, 51, 53, 56, 57, 36, 39, 41, 43, 45, 46, 48, 50]\n",
      "47.66638159751892 seconds\n"
     ]
    }
   ],
   "source": [
    "img_list = []\n",
    "\n",
    "save_str = 'C:/Users/THzAbacus/Documents/Josh/LeakyWaveML/comsol_results/1d/' + str(int(time.time()))\n",
    "\n",
    "start_client(path)\n",
    "start_time = time.time()\n",
    "    \n",
    "assump = list(np.where(np.flip(test))[0] + 15)\n",
    "    \n",
    "goi = simulate(assump)\n",
    "array = generate_image(goi)\n",
    "img_list.append(array)\n",
    "\n",
    "\n",
    "\n",
    "print(time.time() - start_time, 'seconds')\n",
    "\n",
    "with open(save_str + '.pkl', 'wb') as file:\n",
    "    pickle.dump(img_list, file)"
   ]
  },
  {
   "cell_type": "code",
   "execution_count": null,
   "id": "9f6413ea",
   "metadata": {},
   "outputs": [],
   "source": []
  }
 ],
 "metadata": {
  "kernelspec": {
   "display_name": "Python 3 (ipykernel)",
   "language": "python",
   "name": "python3"
  },
  "language_info": {
   "codemirror_mode": {
    "name": "ipython",
    "version": 3
   },
   "file_extension": ".py",
   "mimetype": "text/x-python",
   "name": "python",
   "nbconvert_exporter": "python",
   "pygments_lexer": "ipython3",
   "version": "3.9.7"
  }
 },
 "nbformat": 4,
 "nbformat_minor": 5
}
