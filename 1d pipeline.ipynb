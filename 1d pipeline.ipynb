{
 "cells": [
  {
   "cell_type": "code",
   "execution_count": 3,
   "id": "ac809e3b",
   "metadata": {},
   "outputs": [],
   "source": [
    "import random\n",
    "import mph\n",
    "import numpy as np\n",
    "import matplotlib.pyplot as plt\n",
    "import os    \n",
    "import time\n",
    "from tqdm.notebook import tqdm\n",
    "import pickle\n",
    "os.environ['KMP_DUPLICATE_LIB_OK']='True'\n",
    "import tensorflow as tf\n",
    "\n",
    "path = 'D:/Josh/Fall 2021/ML-LWA/1dsim.mph'\n",
    "\n",
    "scattering = [1,2,5,6,7,51,53,56,57]"
   ]
  },
  {
   "cell_type": "code",
   "execution_count": 135,
   "id": "9981647c",
   "metadata": {},
   "outputs": [],
   "source": [
    "def start_client(path):\n",
    "    global model\n",
    "    global pymodel\n",
    "    global client\n",
    "    client = mph.start(version = '5.3a')\n",
    "    pymodel = client.load(path)\n",
    "    model = pymodel.java\n",
    "    \n",
    "def save_model():\n",
    "    model.save(path)\n",
    "    \n",
    "def generate_image(random_pattern):\n",
    "    adjusted = [x - 15 for x in random_pattern]\n",
    "    out = np.flip(np.array([1 if x in adjusted else 0 for x in np.arange(36)]))\n",
    "    return out\n",
    "    \n",
    "def simulate_random():\n",
    "    global start_count\n",
    "#     grids_of_interest = [random.randint(15,50) for i in range(0,random.randint(1,36))]\n",
    "#     grids_of_interest = [random.randint(15,50) for i in range(0,18)]\n",
    "    grids_of_interest = random.sample(range(15,51),18)\n",
    "    this_scattering = scattering + grids_of_interest\n",
    "    \n",
    "    model.physics(\"emw\").feature(\"sctr1\").selection().set(this_scattering);\n",
    "    model.physics(\"emw\").feature(\"ffd1\").feature(\"ffc1\").selection().set(grids_of_interest);\n",
    "\n",
    "    model.geom(\"geom1\").runAll();\n",
    "    model.mesh().run();\n",
    "    model.sol(\"sol1\").runAll();\n",
    "    \n",
    "    model.result(\"pg4\").set(\"data\", 'dset1')\n",
    "    model.result(\"pg4\").feature(\"ff1\").run()\n",
    "    model.result().export(\"plot1\").set(\"filename\", save_str + '.csv')\n",
    "    model.result().export(\"plot1\").set(\"plotgroup\", \"pg4\")\n",
    "    model.result().export(\"plot1\").set(\"plot\", \"ff1\")\n",
    "    \n",
    "    model.result().export(\"plot1\").run()\n",
    "\n",
    "    return grids_of_interest\n",
    "\n",
    "def simulate(vals):\n",
    "    global start_count\n",
    "    grids_of_interest = vals\n",
    "    this_scattering = scattering + grids_of_interest\n",
    "#     print(this_scattering)\n",
    "    \n",
    "    model.physics(\"emw\").feature(\"sctr1\").selection().set(this_scattering);\n",
    "    model.physics(\"emw\").feature(\"ffd1\").feature(\"ffc1\").selection().set(grids_of_interest);\n",
    "\n",
    "    model.geom(\"geom1\").runAll();\n",
    "    model.mesh().run();\n",
    "    model.sol(\"sol1\").runAll();\n",
    "    \n",
    "    model.result(\"pg4\").set(\"data\", 'dset1')\n",
    "    model.result(\"pg4\").feature(\"ff1\").run()\n",
    "    model.result().export(\"plot1\").set(\"filename\", save_str + '.csv')\n",
    "    model.result().export(\"plot1\").set(\"plotgroup\", \"pg4\")\n",
    "    model.result().export(\"plot1\").set(\"plot\", \"ff1\")\n",
    "    \n",
    "    model.result().export(\"plot1\").run()\n",
    "\n",
    "    return grids_of_interest"
   ]
  },
  {
   "cell_type": "markdown",
   "id": "268e1af6",
   "metadata": {},
   "source": [
    "<h1>Please don't close out of this, very long simulation in progress! Using the computer is fine just don't close this window, thanks!</h1>\n",
    "\n",
    "<h4>Light simulations should work fine but if you need to do anything heavy, click Kernel in the toolbar above and just hit shutdown, just shoot me (Josh) an email if you need to do that.</h4>"
   ]
  },
  {
   "cell_type": "code",
   "execution_count": 10,
   "id": "1959e18d",
   "metadata": {},
   "outputs": [
    {
     "data": {
      "application/vnd.jupyter.widget-view+json": {
       "model_id": "81b43e03933c4b3fa4761249b6fadfb4",
       "version_major": 2,
       "version_minor": 0
      },
      "text/plain": [
       "  0%|          | 0/10 [00:00<?, ?it/s]"
      ]
     },
     "metadata": {},
     "output_type": "display_data"
    },
    {
     "data": {
      "application/vnd.jupyter.widget-view+json": {
       "model_id": "05eadd23982c422496a8fe4cfaa3c334",
       "version_major": 2,
       "version_minor": 0
      },
      "text/plain": [
       "  0%|          | 0/500 [00:00<?, ?it/s]"
      ]
     },
     "metadata": {},
     "output_type": "display_data"
    },
    {
     "name": "stdout",
     "output_type": "stream",
     "text": [
      "21035.55253458023 seconds\n"
     ]
    },
    {
     "data": {
      "application/vnd.jupyter.widget-view+json": {
       "model_id": "9f664258659d493489f877c1a741b3af",
       "version_major": 2,
       "version_minor": 0
      },
      "text/plain": [
       "  0%|          | 0/500 [00:00<?, ?it/s]"
      ]
     },
     "metadata": {},
     "output_type": "display_data"
    },
    {
     "name": "stdout",
     "output_type": "stream",
     "text": [
      "21099.965270996094 seconds\n"
     ]
    },
    {
     "data": {
      "application/vnd.jupyter.widget-view+json": {
       "model_id": "d53174396f0f4b1baf76a033d5987247",
       "version_major": 2,
       "version_minor": 0
      },
      "text/plain": [
       "  0%|          | 0/500 [00:00<?, ?it/s]"
      ]
     },
     "metadata": {},
     "output_type": "display_data"
    },
    {
     "name": "stdout",
     "output_type": "stream",
     "text": [
      "20720.722623825073 seconds\n"
     ]
    },
    {
     "data": {
      "application/vnd.jupyter.widget-view+json": {
       "model_id": "c913ed2c8498407faa2d6fdff86c40dd",
       "version_major": 2,
       "version_minor": 0
      },
      "text/plain": [
       "  0%|          | 0/500 [00:00<?, ?it/s]"
      ]
     },
     "metadata": {},
     "output_type": "display_data"
    },
    {
     "name": "stdout",
     "output_type": "stream",
     "text": [
      "21006.79813838005 seconds\n"
     ]
    },
    {
     "data": {
      "application/vnd.jupyter.widget-view+json": {
       "model_id": "93c1682f622c4b5fae46bdaa95ab1356",
       "version_major": 2,
       "version_minor": 0
      },
      "text/plain": [
       "  0%|          | 0/500 [00:00<?, ?it/s]"
      ]
     },
     "metadata": {},
     "output_type": "display_data"
    },
    {
     "name": "stdout",
     "output_type": "stream",
     "text": [
      "20875.758792877197 seconds\n"
     ]
    },
    {
     "data": {
      "application/vnd.jupyter.widget-view+json": {
       "model_id": "d478f3d85540401986f5f81c1433495f",
       "version_major": 2,
       "version_minor": 0
      },
      "text/plain": [
       "  0%|          | 0/500 [00:00<?, ?it/s]"
      ]
     },
     "metadata": {},
     "output_type": "display_data"
    },
    {
     "name": "stdout",
     "output_type": "stream",
     "text": [
      "21333.32749772072 seconds\n"
     ]
    },
    {
     "data": {
      "application/vnd.jupyter.widget-view+json": {
       "model_id": "9329f6674351426fb87644e173c70ab4",
       "version_major": 2,
       "version_minor": 0
      },
      "text/plain": [
       "  0%|          | 0/500 [00:00<?, ?it/s]"
      ]
     },
     "metadata": {},
     "output_type": "display_data"
    },
    {
     "name": "stdout",
     "output_type": "stream",
     "text": [
      "21286.61799263954 seconds\n"
     ]
    },
    {
     "data": {
      "application/vnd.jupyter.widget-view+json": {
       "model_id": "d499c3c790d442a891106d03e4b690a0",
       "version_major": 2,
       "version_minor": 0
      },
      "text/plain": [
       "  0%|          | 0/500 [00:00<?, ?it/s]"
      ]
     },
     "metadata": {},
     "output_type": "display_data"
    },
    {
     "name": "stdout",
     "output_type": "stream",
     "text": [
      "21325.81560730934 seconds\n"
     ]
    },
    {
     "data": {
      "application/vnd.jupyter.widget-view+json": {
       "model_id": "8b16c0e88b8a4cf284acc91fff59b490",
       "version_major": 2,
       "version_minor": 0
      },
      "text/plain": [
       "  0%|          | 0/500 [00:00<?, ?it/s]"
      ]
     },
     "metadata": {},
     "output_type": "display_data"
    },
    {
     "name": "stdout",
     "output_type": "stream",
     "text": [
      "21241.303716659546 seconds\n"
     ]
    },
    {
     "data": {
      "application/vnd.jupyter.widget-view+json": {
       "model_id": "8fecb4879d8845e58d003f3b8049826e",
       "version_major": 2,
       "version_minor": 0
      },
      "text/plain": [
       "  0%|          | 0/500 [00:00<?, ?it/s]"
      ]
     },
     "metadata": {},
     "output_type": "display_data"
    },
    {
     "name": "stdout",
     "output_type": "stream",
     "text": [
      "21369.96865916252 seconds\n"
     ]
    }
   ],
   "source": [
    "for instance in tqdm(np.arange(10)):\n",
    "    img_list = []\n",
    "\n",
    "    save_str = 'C:/Users/THzAbacus/Documents/Josh/LeakyWaveML/comsol_results/1dconstantslots/' + str(int(time.time()))\n",
    "\n",
    "    start_client(path)\n",
    "    start_time = time.time()\n",
    "    for i in tqdm(np.arange(500)):\n",
    "        goi = simulate_random()\n",
    "        array = generate_image(goi)\n",
    "        img_list.append(array)\n",
    "\n",
    "    print(time.time() - start_time, 'seconds')\n",
    "\n",
    "    with open(save_str + '.pkl', 'wb') as file:\n",
    "        pickle.dump(img_list, file)"
   ]
  },
  {
   "cell_type": "code",
   "execution_count": 9,
   "id": "2cf44006",
   "metadata": {
    "scrolled": true
   },
   "outputs": [],
   "source": [
    "model.save('D:/Josh/Fall 2021/ML-LWA/check1d2.mph')"
   ]
  },
  {
   "cell_type": "code",
   "execution_count": 21,
   "id": "549bcbff",
   "metadata": {},
   "outputs": [],
   "source": [
    "with open('1d/peaks_to_slot/constant_power/results/test_data.pkl', 'rb') as pkl_file:\n",
    "    slots, true, preds = pickle.load(pkl_file)"
   ]
  },
  {
   "cell_type": "code",
   "execution_count": 23,
   "id": "1abd6ea8",
   "metadata": {},
   "outputs": [
    {
     "data": {
      "text/plain": [
       "TensorShape([4000, 36])"
      ]
     },
     "execution_count": 23,
     "metadata": {},
     "output_type": "execute_result"
    }
   ],
   "source": [
    "preds.shape"
   ]
  },
  {
   "cell_type": "code",
   "execution_count": 128,
   "id": "ec364f05",
   "metadata": {},
   "outputs": [],
   "source": [
    "def top_16(slot):\n",
    "\n",
    "    median = np.sort(slot)[18]\n",
    "    out = [1 if x >= median else 0 for x in slot]\n",
    "    return out"
   ]
  },
  {
   "cell_type": "code",
   "execution_count": 130,
   "id": "b6f9a97b",
   "metadata": {},
   "outputs": [
    {
     "data": {
      "text/plain": [
       "<matplotlib.image.AxesImage at 0x226e07e6100>"
      ]
     },
     "execution_count": 130,
     "metadata": {},
     "output_type": "execute_result"
    },
    {
     "data": {
      "image/png": "[encoded data removed]",
      "text/plain": [
       "<Figure size 432x288 with 1 Axes>"
      ]
     },
     "metadata": {
      "needs_background": "light"
     },
     "output_type": "display_data"
    }
   ],
   "source": [
    "plt.imshow(tf.expand_dims(top_16(preds[12]),1),cmap = 'YlGnBu')"
   ]
  },
  {
   "cell_type": "code",
   "execution_count": null,
   "id": "5eb05c95",
   "metadata": {},
   "outputs": [],
   "source": []
  },
  {
   "cell_type": "code",
   "execution_count": 51,
   "id": "27f70a5a",
   "metadata": {},
   "outputs": [],
   "source": [
    "start_client(path)"
   ]
  },
  {
   "cell_type": "code",
   "execution_count": 149,
   "id": "710bc792",
   "metadata": {},
   "outputs": [
    {
     "data": {
      "application/vnd.jupyter.widget-view+json": {
       "model_id": "41179489da424989a59570f56ba66e05",
       "version_major": 2,
       "version_minor": 0
      },
      "text/plain": [
       "  0%|          | 0/500 [00:00<?, ?it/s]"
      ]
     },
     "metadata": {},
     "output_type": "display_data"
    },
    {
     "name": "stdout",
     "output_type": "stream",
     "text": [
      "21680.542711496353 seconds\n"
     ]
    }
   ],
   "source": [
    "img_list = []\n",
    "\n",
    "save_str = 'C:/Users/THzAbacus/Documents/Josh/LeakyWaveML/comsol_results/validation'\n",
    "\n",
    "start_client(path)\n",
    "start_time = time.time()\n",
    "for i in tqdm(np.arange(500)):\n",
    "    \n",
    "    assump = list(np.where(np.flip(top_16(preds[i])))[0] + 15)\n",
    "\n",
    "#     naive = list(np.where(np.flip(tf.round(prediction[i])))[0] + 15)\n",
    "    \n",
    "    goi = simulate(assump)\n",
    "    array = generate_image(goi)\n",
    "    img_list.append(array)\n",
    "    \n",
    "#     goi = simulate(naive)\n",
    "#     array = generate_image(goi)\n",
    "#     img_list.append(array)\n",
    "\n",
    "print(time.time() - start_time, 'seconds')\n",
    "\n",
    "with open(save_str + '.pkl', 'wb') as file:\n",
    "    pickle.dump(img_list, file)"
   ]
  },
  {
   "cell_type": "code",
   "execution_count": 145,
   "id": "f7dab58f",
   "metadata": {},
   "outputs": [
    {
     "data": {
      "text/plain": [
       "array([ True,  True,  True,  True,  True,  True,  True,  True,  True,\n",
       "        True,  True,  True,  True,  True,  True,  True,  True,  True,\n",
       "        True,  True,  True,  True,  True,  True,  True,  True,  True,\n",
       "        True,  True,  True,  True,  True,  True,  True,  True,  True])"
      ]
     },
     "execution_count": 145,
     "metadata": {},
     "output_type": "execute_result"
    }
   ],
   "source": [
    "top_16(preds[0]) == array"
   ]
  },
  {
   "cell_type": "code",
   "execution_count": null,
   "id": "480793ef",
   "metadata": {},
   "outputs": [],
   "source": []
  },
  {
   "cell_type": "code",
   "execution_count": 60,
   "id": "be9beee0",
   "metadata": {},
   "outputs": [],
   "source": [
    "test = np.array([1., 0., 1., 0., 1., 1., 0., 1., 0., 1., 0., 1., 0., 0., 1., 0., 0.,\n",
    "       0., 0., 0., 0., 0., 0., 0., 0., 0., 0., 0., 0., 0., 0., 0., 0., 0.,\n",
    "       0., 0.])"
   ]
  },
  {
   "cell_type": "code",
   "execution_count": 63,
   "id": "55e19fe8",
   "metadata": {},
   "outputs": [
    {
     "name": "stdout",
     "output_type": "stream",
     "text": [
      "[1, 2, 5, 6, 7, 51, 53, 56, 57, 36, 39, 41, 43, 45, 46, 48, 50]\n",
      "47.66638159751892 seconds\n"
     ]
    }
   ],
   "source": [
    "img_list = []\n",
    "\n",
    "save_str = 'C:/Users/THzAbacus/Documents/Josh/LeakyWaveML/comsol_results/1d/' + str(int(time.time()))\n",
    "\n",
    "start_client(path)\n",
    "start_time = time.time()\n",
    "    \n",
    "assump = list(np.where(np.flip(test))[0] + 15)\n",
    "    \n",
    "goi = simulate(assump)\n",
    "array = generate_image(goi)\n",
    "img_list.append(array)\n",
    "\n",
    "\n",
    "\n",
    "print(time.time() - start_time, 'seconds')\n",
    "\n",
    "with open(save_str + '.pkl', 'wb') as file:\n",
    "    pickle.dump(img_list, file)"
   ]
  },
  {
   "cell_type": "code",
   "execution_count": null,
   "id": "46ea458b",
   "metadata": {},
   "outputs": [],
   "source": []
  }
 ],
 "metadata": {
  "kernelspec": {
   "display_name": "Python 3 (ipykernel)",
   "language": "python",
   "name": "python3"
  },
  "language_info": {
   "codemirror_mode": {
    "name": "ipython",
    "version": 3
   },
   "file_extension": ".py",
   "mimetype": "text/x-python",
   "name": "python",
   "nbconvert_exporter": "python",
   "pygments_lexer": "ipython3",
   "version": "3.9.7"
  }
 },
 "nbformat": 4,
 "nbformat_minor": 5
}
