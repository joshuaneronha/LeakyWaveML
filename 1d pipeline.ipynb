{
 "cells": [
  {
   "cell_type": "code",
   "execution_count": 7,
   "id": "ac809e3b",
   "metadata": {},
   "outputs": [],
   "source": [
    "import random\n",
    "import mph\n",
    "import numpy as np\n",
    "import matplotlib.pyplot as plt\n",
    "import os    \n",
    "import time\n",
    "from tqdm.notebook import tqdm\n",
    "import pickle\n",
    "os.environ['KMP_DUPLICATE_LIB_OK']='True'\n",
    "import tensorflow as tf\n",
    "\n",
    "path = 'D:/Josh/Fall 2021/ML-LWA/may24.mph'\n",
    "\n",
    "scattering = [1,2,5,48,51,52]"
   ]
  },
  {
   "cell_type": "code",
   "execution_count": 8,
   "id": "9981647c",
   "metadata": {},
   "outputs": [],
   "source": [
    "def start_client(path):\n",
    "    global model\n",
    "    global pymodel\n",
    "    global client\n",
    "    client = mph.start(version = '5.3a')\n",
    "    pymodel = client.load(path)\n",
    "    model = pymodel.java\n",
    "    \n",
    "def save_model():\n",
    "    model.save(path)\n",
    "    \n",
    "def generate_image(random_pattern):\n",
    "    adjusted = [x - 11 for x in random_pattern]\n",
    "    out = np.flip(np.array([1 if x in adjusted else 0 for x in np.arange(36)]))\n",
    "    return out\n",
    "    \n",
    "def simulate_random():\n",
    "    global start_count\n",
    "#     grids_of_interest = [random.randint(15,50) for i in range(0,random.randint(1,36))]\n",
    "#     grids_of_interest = [random.randint(15,50) for i in range(0,18)]\n",
    "    grids_of_interest = random.sample(range(11,47),18)\n",
    "    this_scattering = scattering + grids_of_interest\n",
    "    \n",
    "    model.physics(\"emw\").feature(\"sctr1\").selection().set(this_scattering);\n",
    "    model.physics(\"emw\").feature(\"ffd1\").feature(\"ffc1\").selection().set(grids_of_interest);\n",
    "\n",
    "    model.geom(\"geom1\").runAll();\n",
    "    model.mesh().run();\n",
    "    model.sol(\"sol1\").runAll();\n",
    "    \n",
    "    model.result(\"pg4\").set(\"data\", 'dset1')\n",
    "    model.result(\"pg4\").feature(\"ff1\").run()\n",
    "    model.result().export(\"plot1\").set(\"filename\", save_str + '.csv')\n",
    "    model.result().export(\"plot1\").set(\"plotgroup\", \"pg4\")\n",
    "    model.result().export(\"plot1\").set(\"plot\", \"ff1\")\n",
    "    \n",
    "    model.result().export(\"plot1\").run()\n",
    "\n",
    "    return grids_of_interest\n",
    "\n",
    "def simulate(vals):\n",
    "    global start_count\n",
    "    grids_of_interest = vals\n",
    "    this_scattering = scattering + grids_of_interest\n",
    "#     print(this_scattering)\n",
    "    \n",
    "    model.physics(\"emw\").feature(\"sctr1\").selection().set(this_scattering);\n",
    "    model.physics(\"emw\").feature(\"ffd1\").feature(\"ffc1\").selection().set(grids_of_interest);\n",
    "\n",
    "    model.geom(\"geom1\").runAll();\n",
    "    model.mesh().run();\n",
    "    model.sol(\"sol1\").runAll();\n",
    "    \n",
    "    model.result(\"pg4\").set(\"data\", 'dset1')\n",
    "    model.result(\"pg4\").feature(\"ff1\").run()\n",
    "    model.result().export(\"plot1\").set(\"filename\", save_str + '.csv')\n",
    "    model.result().export(\"plot1\").set(\"plotgroup\", \"pg4\")\n",
    "    model.result().export(\"plot1\").set(\"plot\", \"ff1\")\n",
    "    \n",
    "    model.result().export(\"plot1\").run()\n",
    "\n",
    "    return grids_of_interest"
   ]
  },
  {
   "cell_type": "markdown",
   "id": "268e1af6",
   "metadata": {},
   "source": [
    "<h1>Please don't close out of this, very long simulation in progress! Using the computer is fine just don't close this window, thanks!</h1>\n",
    "\n",
    "<h4>Light simulations should work fine but if you need to do anything heavy, click Kernel in the toolbar above and just hit shutdown, just shoot me (Josh) an email if you need to do that.</h4>"
   ]
  },
  {
   "cell_type": "code",
   "execution_count": null,
   "id": "1959e18d",
   "metadata": {},
   "outputs": [
    {
     "data": {
      "application/vnd.jupyter.widget-view+json": {
       "model_id": "5bca7770a2214502a52d924fc4a06f7b",
       "version_major": 2,
       "version_minor": 0
      },
      "text/plain": [
       "  0%|          | 0/40 [00:00<?, ?it/s]"
      ]
     },
     "metadata": {},
     "output_type": "display_data"
    },
    {
     "data": {
      "application/vnd.jupyter.widget-view+json": {
       "model_id": "f7aba245755448d5b66dbac9368200cf",
       "version_major": 2,
       "version_minor": 0
      },
      "text/plain": [
       "  0%|          | 0/500 [00:00<?, ?it/s]"
      ]
     },
     "metadata": {},
     "output_type": "display_data"
    },
    {
     "name": "stdout",
     "output_type": "stream",
     "text": [
      "16676.315572738647 seconds\n"
     ]
    },
    {
     "data": {
      "application/vnd.jupyter.widget-view+json": {
       "model_id": "aa427520ea134f79b434eb6d20e3b0cd",
       "version_major": 2,
       "version_minor": 0
      },
      "text/plain": [
       "  0%|          | 0/500 [00:00<?, ?it/s]"
      ]
     },
     "metadata": {},
     "output_type": "display_data"
    },
    {
     "name": "stdout",
     "output_type": "stream",
     "text": [
      "16692.723877429962 seconds\n"
     ]
    },
    {
     "data": {
      "application/vnd.jupyter.widget-view+json": {
       "model_id": "d497634172d649d7a9363e0e5cfd82b6",
       "version_major": 2,
       "version_minor": 0
      },
      "text/plain": [
       "  0%|          | 0/500 [00:00<?, ?it/s]"
      ]
     },
     "metadata": {},
     "output_type": "display_data"
    },
    {
     "name": "stdout",
     "output_type": "stream",
     "text": [
      "16814.140983581543 seconds\n"
     ]
    },
    {
     "data": {
      "application/vnd.jupyter.widget-view+json": {
       "model_id": "e3b5d3bed77747c0b6f1009b29c8de63",
       "version_major": 2,
       "version_minor": 0
      },
      "text/plain": [
       "  0%|          | 0/500 [00:00<?, ?it/s]"
      ]
     },
     "metadata": {},
     "output_type": "display_data"
    },
    {
     "name": "stdout",
     "output_type": "stream",
     "text": [
      "16914.045490264893 seconds\n"
     ]
    },
    {
     "data": {
      "application/vnd.jupyter.widget-view+json": {
       "model_id": "b0fad2be524941eda4db72c8c3d4ee45",
       "version_major": 2,
       "version_minor": 0
      },
      "text/plain": [
       "  0%|          | 0/500 [00:00<?, ?it/s]"
      ]
     },
     "metadata": {},
     "output_type": "display_data"
    },
    {
     "name": "stdout",
     "output_type": "stream",
     "text": [
      "16993.69294667244 seconds\n"
     ]
    },
    {
     "data": {
      "application/vnd.jupyter.widget-view+json": {
       "model_id": "5277c70e59584026ba81c50992a1216b",
       "version_major": 2,
       "version_minor": 0
      },
      "text/plain": [
       "  0%|          | 0/500 [00:00<?, ?it/s]"
      ]
     },
     "metadata": {},
     "output_type": "display_data"
    }
   ],
   "source": [
    "for instance in tqdm(np.arange(40)):\n",
    "    img_list = []\n",
    "\n",
    "    save_str = 'C:/Users/THzAbacus/Documents/Josh/LeakyWaveML/comsol_results/1dconstantslots_pec/' + str(int(time.time()))\n",
    "\n",
    "    start_client(path)\n",
    "    start_time = time.time()\n",
    "    for i in tqdm(np.arange(500)):\n",
    "        goi = simulate_random()\n",
    "        array = generate_image(goi)\n",
    "        img_list.append(array)\n",
    "\n",
    "    print(time.time() - start_time, 'seconds')\n",
    "\n",
    "    with open(save_str + '.pkl', 'wb') as file:\n",
    "        pickle.dump(img_list, file)"
   ]
  },
  {
   "cell_type": "code",
   "execution_count": 10,
   "id": "2cf44006",
   "metadata": {
    "scrolled": true
   },
   "outputs": [],
   "source": [
    "model.save('D:/Josh/Fall 2021/ML-LWA/may24test.mph')"
   ]
  },
  {
   "cell_type": "code",
   "execution_count": 13,
   "id": "c2866757",
   "metadata": {},
   "outputs": [
    {
     "data": {
      "text/plain": [
       "<matplotlib.image.AxesImage at 0x1c8eaf71250>"
      ]
     },
     "execution_count": 13,
     "metadata": {},
     "output_type": "execute_result"
    },
    {
     "data": {
      "image/png": "[encoded data removed]",
      "text/plain": [
       "<Figure size 432x288 with 1 Axes>"
      ]
     },
     "metadata": {
      "needs_background": "light"
     },
     "output_type": "display_data"
    }
   ],
   "source": [
    "plt.imshow(tf.expand_dims(img_list[0],1),cmap='YlGnBu')"
   ]
  },
  {
   "cell_type": "code",
   "execution_count": 4,
   "id": "549bcbff",
   "metadata": {},
   "outputs": [],
   "source": [
    "with open('1d/peaks_to_slot/constant_power/results/test_data510.pkl', 'rb') as pkl_file:\n",
    "    slots, true, preds, _ = pickle.load(pkl_file)"
   ]
  },
  {
   "cell_type": "code",
   "execution_count": null,
   "id": "06ca92e7",
   "metadata": {},
   "outputs": [],
   "source": []
  },
  {
   "cell_type": "code",
   "execution_count": null,
   "id": "514038ae",
   "metadata": {},
   "outputs": [],
   "source": []
  },
  {
   "cell_type": "code",
   "execution_count": null,
   "id": "a768c0f1",
   "metadata": {},
   "outputs": [],
   "source": []
  },
  {
   "cell_type": "code",
   "execution_count": null,
   "id": "f376fc86",
   "metadata": {},
   "outputs": [],
   "source": [
    "preds.shape"
   ]
  },
  {
   "cell_type": "code",
   "execution_count": 5,
   "id": "09fed682",
   "metadata": {},
   "outputs": [],
   "source": [
    "def top_16(slot):\n",
    "\n",
    "    median = np.sort(slot)[18]\n",
    "    out = [1 if x >= median else 0 for x in slot]\n",
    "    return out"
   ]
  },
  {
   "cell_type": "code",
   "execution_count": null,
   "id": "6c10c610",
   "metadata": {},
   "outputs": [],
   "source": [
    "plt.imshow(tf.expand_dims(top_16(preds[12]),1),cmap = 'YlGnBu')"
   ]
  },
  {
   "cell_type": "code",
   "execution_count": null,
   "id": "fbf7a84d",
   "metadata": {},
   "outputs": [],
   "source": [
    "start_client(path)"
   ]
  },
  {
   "cell_type": "code",
   "execution_count": 6,
   "id": "47ac5e2a",
   "metadata": {},
   "outputs": [
    {
     "data": {
      "application/vnd.jupyter.widget-view+json": {
       "model_id": "8b8b502b21c1491f8e3c4f52bec484e3",
       "version_major": 2,
       "version_minor": 0
      },
      "text/plain": [
       "  0%|          | 0/500 [00:00<?, ?it/s]"
      ]
     },
     "metadata": {},
     "output_type": "display_data"
    },
    {
     "name": "stdout",
     "output_type": "stream",
     "text": [
      "18335.179027318954 seconds\n"
     ]
    }
   ],
   "source": [
    "img_list = []\n",
    "\n",
    "save_str = 'C:/Users/THzAbacus/Documents/Josh/LeakyWaveML/comsol_results/validation510'\n",
    "\n",
    "start_client(path)\n",
    "start_time = time.time()\n",
    "for i in tqdm(np.arange(500)):\n",
    "    \n",
    "    assump = list(np.where(np.flip(top_16(preds[i])))[0] + 15)\n",
    "\n",
    "#     naive = list(np.where(np.flip(tf.round(prediction[i])))[0] + 15)\n",
    "    \n",
    "    goi = simulate(assump)\n",
    "    array = generate_image(goi)\n",
    "    img_list.append(array)\n",
    "    \n",
    "#     goi = simulate(naive)\n",
    "#     array = generate_image(goi)\n",
    "#     img_list.append(array)\n",
    "\n",
    "print(time.time() - start_time, 'seconds')\n",
    "\n",
    "with open(save_str + '.pkl', 'wb') as file:\n",
    "    pickle.dump(img_list, file)"
   ]
  },
  {
   "cell_type": "code",
   "execution_count": null,
   "id": "35ef44eb",
   "metadata": {},
   "outputs": [],
   "source": [
    "img_list[0]"
   ]
  },
  {
   "cell_type": "code",
   "execution_count": null,
   "id": "8d440d23",
   "metadata": {},
   "outputs": [],
   "source": [
    "plt.imshow(tf.expand_dims(img_list[0],1))"
   ]
  },
  {
   "cell_type": "code",
   "execution_count": null,
   "id": "4fa5f86c",
   "metadata": {},
   "outputs": [],
   "source": [
    "plt.imshow(tf.expand_dims(top_16(preds[0]),1))"
   ]
  },
  {
   "cell_type": "code",
   "execution_count": null,
   "id": "c7f69782",
   "metadata": {},
   "outputs": [],
   "source": [
    "test = np.array([1., 0., 1., 0., 1., 1., 0., 1., 0., 1., 0., 1., 0., 0., 1., 0., 0.,\n",
    "       0., 0., 0., 0., 0., 0., 0., 0., 0., 0., 0., 0., 0., 0., 0., 0., 0.,\n",
    "       0., 0.])"
   ]
  },
  {
   "cell_type": "code",
   "execution_count": null,
   "id": "09728eff",
   "metadata": {},
   "outputs": [],
   "source": [
    "img_list = []\n",
    "\n",
    "save_str = 'C:/Users/THzAbacus/Documents/Josh/LeakyWaveML/comsol_results/1d/' + str(int(time.time()))\n",
    "\n",
    "start_client(path)\n",
    "start_time = time.time()\n",
    "    \n",
    "assump = list(np.where(np.flip(test))[0] + 15)\n",
    "    \n",
    "goi = simulate(assump)\n",
    "array = generate_image(goi)\n",
    "img_list.append(array)\n",
    "\n",
    "\n",
    "\n",
    "print(time.time() - start_time, 'seconds')\n",
    "\n",
    "with open(save_str + '.pkl', 'wb') as file:\n",
    "    pickle.dump(img_list, file)"
   ]
  },
  {
   "cell_type": "code",
   "execution_count": null,
   "id": "40270914",
   "metadata": {},
   "outputs": [],
   "source": []
  }
 ],
 "metadata": {
  "kernelspec": {
   "display_name": "Python 3 (ipykernel)",
   "language": "python",
   "name": "python3"
  },
  "language_info": {
   "codemirror_mode": {
    "name": "ipython",
    "version": 3
   },
   "file_extension": ".py",
   "mimetype": "text/x-python",
   "name": "python",
   "nbconvert_exporter": "python",
   "pygments_lexer": "ipython3",
   "version": "3.9.7"
  }
 },
 "nbformat": 4,
 "nbformat_minor": 5
}
