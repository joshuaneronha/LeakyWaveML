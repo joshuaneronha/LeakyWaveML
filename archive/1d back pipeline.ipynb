{
 "cells": [
  {
   "cell_type": "code",
   "execution_count": null,
   "id": "a377d939",
   "metadata": {},
   "outputs": [],
   "source": [
    "import numpy as np\n",
    "import pandas as pd\n",
    "import matplotlib.pyplot as plt\n",
    "import pickle\n",
    "import tensorflow as tf\n",
    "\n",
    "col = plt.cm.Oranges(np.linspace(0,0.5,2))\n",
    "\n",
    "import random\n",
    "import mph\n",
    "import numpy as np\n",
    "import matplotlib.pyplot as plt\n",
    "import os    \n",
    "import time\n",
    "from tqdm.notebook import tqdm\n",
    "import pickle\n",
    "os.environ['KMP_DUPLICATE_LIB_OK']='True'\n",
    "\n",
    "path = 'D:/Josh/Fall 2021/ML-LWA/1dsim_test.mph'\n",
    "\n",
    "scattering = [1,2,5,6,7,51,53,56,57]"
   ]
  },
  {
   "cell_type": "code",
   "execution_count": 2,
   "id": "aac4b731",
   "metadata": {},
   "outputs": [],
   "source": [
    "def start_client(path):\n",
    "    global model\n",
    "    global pymodel\n",
    "    global client\n",
    "    client = mph.start(version = '5.3a')\n",
    "    pymodel = client.load(path)\n",
    "    model = pymodel.java\n",
    "    \n",
    "def save_model():\n",
    "    model.save(path)\n",
    "    \n",
    "def generate_image(random_pattern):\n",
    "    adjusted = [x - 15 for x in random_pattern]\n",
    "    out = np.flip(np.array([1 if x in adjusted else 0 for x in np.arange(36)]))\n",
    "    return out\n",
    "    \n",
    "def simulate_random(grids_of_interest):\n",
    "    global start_count\n",
    "    this_scattering = scattering + grids_of_interest\n",
    "    \n",
    "    model.physics(\"emw\").feature(\"sctr1\").selection().set(this_scattering);\n",
    "    model.physics(\"emw\").feature(\"ffd1\").feature(\"ffc1\").selection().set(grids_of_interest);\n",
    "\n",
    "    model.geom(\"geom1\").runAll();\n",
    "    model.mesh().run();\n",
    "    model.sol(\"sol1\").runAll();\n",
    "    \n",
    "    model.result(\"pg4\").set(\"data\", 'dset1')\n",
    "    model.result(\"pg4\").feature(\"ff1\").run()\n",
    "    model.result().export(\"plot1\").set(\"filename\", save_str + '.csv')\n",
    "    model.result().export(\"plot1\").set(\"plotgroup\", \"pg4\")\n",
    "    model.result().export(\"plot1\").set(\"plot\", \"ff1\")\n",
    "    \n",
    "    model.result().export(\"plot1\").run()\n",
    "\n",
    "    return grids_of_interest"
   ]
  },
  {
   "cell_type": "code",
   "execution_count": null,
   "id": "b763b157",
   "metadata": {},
   "outputs": [],
   "source": [
    "with open('generated_slots.pkl', 'rb') as f:\n",
    "    examples = pickle.load(f)"
   ]
  },
  {
   "cell_type": "code",
   "execution_count": null,
   "id": "fdb7c7c7",
   "metadata": {},
   "outputs": [],
   "source": [
    "plt.plot(examples[0][0])"
   ]
  },
  {
   "cell_type": "code",
   "execution_count": null,
   "id": "71f743b5",
   "metadata": {},
   "outputs": [],
   "source": [
    "fig, ax = plt.subplots(1,3)\n",
    "ax[0].imshow(tf.expand_dims(examples[9][1],1))\n",
    "ax[1].imshow(tf.expand_dims(examples[9][2],1))\n",
    "ax[2].imshow(tf.round(tf.expand_dims(examples[9][2],1)))"
   ]
  },
  {
   "cell_type": "code",
   "execution_count": null,
   "id": "bcb6a902",
   "metadata": {},
   "outputs": [],
   "source": [
    "list(np.where(np.flip(tf.round(examples[9][2])))[0])"
   ]
  },
  {
   "cell_type": "code",
   "execution_count": null,
   "id": "6b577556",
   "metadata": {},
   "outputs": [],
   "source": [
    "np.where((np.flip(tf.round(examples[9][2]))))"
   ]
  },
  {
   "cell_type": "code",
   "execution_count": null,
   "id": "c8cf2bd4",
   "metadata": {},
   "outputs": [],
   "source": [
    "[27,29]"
   ]
  },
  {
   "cell_type": "code",
   "execution_count": null,
   "id": "92829700",
   "metadata": {},
   "outputs": [],
   "source": [
    "save_str = 'C:/Users/THzAbacus/Documents/Josh/LeakyWaveML/1d/signal_to_slot/back_results/' + str(int(time.time()))\n",
    "\n",
    "start_client(path)\n",
    "\n",
    "goi_list = []\n",
    "\n",
    "for i in np.arange(10):\n",
    "    goi = simulate_random(list(np.where(np.flip(tf.round(examples[i][2])))[0] + 15))\n",
    "    goi_list.append(goi)"
   ]
  },
  {
   "cell_type": "code",
   "execution_count": 8,
   "id": "b1ce4445",
   "metadata": {},
   "outputs": [],
   "source": [
    "save_str = 'C:/Users/THzAbacus/Documents/Josh/LeakyWaveML/1d/signal_to_slot/back_results/' + str(int(time.time()))\n",
    "\n",
    "start_client(path)\n",
    "\n",
    "goi_list = []\n",
    "goi = simulate_random([42,44])\n",
    "goi_list.append(goi)"
   ]
  },
  {
   "cell_type": "code",
   "execution_count": 27,
   "id": "1e2592ec",
   "metadata": {},
   "outputs": [],
   "source": [
    "img = [1 if i in [27,29] else 0  for i in np.arange(36)]"
   ]
  },
  {
   "cell_type": "code",
   "execution_count": 15,
   "id": "f65fd66a",
   "metadata": {},
   "outputs": [],
   "source": [
    "test_data = np.loadtxt('C:/Users/THzAbacus/Documents/Josh/LeakyWaveML/1d/signal_to_slot/back_results/1646598178.csv', delimiter=\",\", dtype=float)\n",
    "curve = np.loadtxt('C:/Users/THzAbacus/Documents/Josh/LeakyWaveML/1d/signal_to_slot/test_curve.csv', delimiter=\",\", dtype=float)"
   ]
  },
  {
   "cell_type": "code",
   "execution_count": 33,
   "id": "a3290f3d",
   "metadata": {},
   "outputs": [
    {
     "data": {
      "text/plain": [
       "<matplotlib.image.AxesImage at 0x1f102b64c40>"
      ]
     },
     "execution_count": 33,
     "metadata": {},
     "output_type": "execute_result"
    },
    {
     "data": {
      "image/png": "[encoded data removed]",
      "text/plain": [
       "<Figure size 432x288 with 2 Axes>"
      ]
     },
     "metadata": {
      "needs_background": "light"
     },
     "output_type": "display_data"
    }
   ],
   "source": [
    "fig, ax = plt.subplots(1,2, gridspec_kw={'width_ratios': [8, 2]})\n",
    "ax[0].plot(20*np.log10(test_data[:,1]))\n",
    "ax[0].plot(curve[:,1])\n",
    "ax[1].imshow(np.flip(tf.transpose(tf.expand_dims(img,0))))"
   ]
  },
  {
   "cell_type": "code",
   "execution_count": 6,
   "id": "1fa0b96f",
   "metadata": {},
   "outputs": [
    {
     "data": {
      "text/plain": [
       "<matplotlib.image.AxesImage at 0x1f08dd1b580>"
      ]
     },
     "execution_count": 6,
     "metadata": {},
     "output_type": "execute_result"
    },
    {
     "data": {
      "image/png": "[encoded data removed]",
      "text/plain": [
       "<Figure size 432x288 with 1 Axes>"
      ]
     },
     "metadata": {
      "needs_background": "light"
     },
     "output_type": "display_data"
    }
   ],
   "source": [
    "plt.imshow(tf.expand_dims(generate_image(goi),axis=1))"
   ]
  },
  {
   "cell_type": "code",
   "execution_count": null,
   "id": "8e5642b7",
   "metadata": {},
   "outputs": [],
   "source": []
  },
  {
   "cell_type": "code",
   "execution_count": null,
   "id": "6db99981",
   "metadata": {},
   "outputs": [],
   "source": [
    "test_data = np.loadtxt('C:/Users/THzAbacus/Documents/Josh/LeakyWaveML/1d/signal_to_slot/back_results/1646590246.csv', delimiter=\",\", dtype=float)"
   ]
  },
  {
   "cell_type": "code",
   "execution_count": null,
   "id": "0c353327",
   "metadata": {},
   "outputs": [],
   "source": [
    "num_sims = int(test_data.shape[0] / 361)\n",
    "points = [361 * x for x in np.arange(num_sims + 1)]\n",
    "sorted_x = [test_data[i:i + 361,:] for i in points[:-1]]"
   ]
  },
  {
   "cell_type": "code",
   "execution_count": null,
   "id": "4b70c91a",
   "metadata": {},
   "outputs": [],
   "source": [
    "def plot_both(i):\n",
    "    fig, ax = plt.subplots(1,3, figsize= (10,5), gridspec_kw={'width_ratios': [8, 1, 1]})\n",
    "    ax[0].plot(examples[i][0])\n",
    "    ax[0].plot(20*np.log10(sorted_x[i][:,1]))\n",
    "    ax[0].legend(['Desired Signal','Obtained Signal'])\n",
    "    ax[2].imshow(tf.round(tf.expand_dims(examples[i][1],1)), cmap = 'Oranges', vmax=2)\n",
    "    ax[1].imshow(tf.round(tf.expand_dims(examples[i][2],1)), cmap = 'Blues', vmax=1.5)"
   ]
  },
  {
   "cell_type": "code",
   "execution_count": null,
   "id": "554dc7a5",
   "metadata": {},
   "outputs": [],
   "source": [
    "plot_both(1)"
   ]
  },
  {
   "cell_type": "code",
   "execution_count": null,
   "id": "b14cd812",
   "metadata": {},
   "outputs": [],
   "source": [
    "tf.round(examples[0][1])"
   ]
  },
  {
   "cell_type": "code",
   "execution_count": null,
   "id": "34413857",
   "metadata": {},
   "outputs": [],
   "source": [
    "tf.round(tf.expand_dims(examples[0][2],1))"
   ]
  },
  {
   "cell_type": "code",
   "execution_count": null,
   "id": "7da01eaa",
   "metadata": {},
   "outputs": [],
   "source": []
  },
  {
   "cell_type": "code",
   "execution_count": null,
   "id": "69c5a81f",
   "metadata": {},
   "outputs": [],
   "source": [
    "plt.imshow(tf.expand_dims(generate_image(goi_list[4]),1))"
   ]
  },
  {
   "cell_type": "code",
   "execution_count": null,
   "id": "cfcd8473",
   "metadata": {},
   "outputs": [],
   "source": [
    "plt.imshow(tf.round(tf.expand_dims(examples[4][2],1)))"
   ]
  },
  {
   "cell_type": "code",
   "execution_count": null,
   "id": "f7909797",
   "metadata": {},
   "outputs": [],
   "source": [
    "np.flip([1,0,1,1,1])"
   ]
  },
  {
   "cell_type": "code",
   "execution_count": null,
   "id": "25907a10",
   "metadata": {},
   "outputs": [],
   "source": []
  }
 ],
 "metadata": {
  "kernelspec": {
   "display_name": "Python 3 (ipykernel)",
   "language": "python",
   "name": "python3"
  },
  "language_info": {
   "codemirror_mode": {
    "name": "ipython",
    "version": 3
   },
   "file_extension": ".py",
   "mimetype": "text/x-python",
   "name": "python",
   "nbconvert_exporter": "python",
   "pygments_lexer": "ipython3",
   "version": "3.9.7"
  }
 },
 "nbformat": 4,
 "nbformat_minor": 5
}
